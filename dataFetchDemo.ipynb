{
 "cells": [
  {
   "cell_type": "code",
   "execution_count": 1,
   "metadata": {},
   "outputs": [],
   "source": [
    "from dotenv import dotenv_values\n",
    "import pandas as pd\n",
    "from sqlalchemy import create_engine, text\n",
    "from sshtunnel import SSHTunnelForwarder"
   ]
  },
  {
   "cell_type": "code",
   "execution_count": 2,
   "metadata": {},
   "outputs": [],
   "source": [
    "# Load credentials from .env file\n",
    "envDict = dotenv_values(\"secrets/.env\")"
   ]
  },
  {
   "cell_type": "code",
   "execution_count": 3,
   "metadata": {},
   "outputs": [],
   "source": [
    "# Create a bind to forward connections on the local port to the mysql port on the server\n",
    "server = SSHTunnelForwarder(\n",
    "    # Host URL and Login\n",
    "    envDict['SSH_HOST'],\n",
    "    ssh_username = envDict['SSH_USERNAME'],\n",
    "    # Private key for SSH connections\n",
    "    ssh_pkey = envDict[\"SSH_PKEY_PATH\"],\n",
    "    ssh_private_key_password = envDict['SSH_PKEY_PASSWORD'],\n",
    "    # Bind to mysql port on server\n",
    "    remote_bind_address = (envDict[\"DB_REMOTE_REF_URL\"], int(envDict[\"DB_REMOTE_REF_PORT\"])),\n",
    "    # Don't look for keys on the local machine\n",
    "    allow_agent = False,\n",
    "    host_pkey_directories = [],\n",
    ")\n",
    "server.start()"
   ]
  },
  {
   "cell_type": "code",
   "execution_count": 4,
   "metadata": {},
   "outputs": [],
   "source": [
    "# Create the engine to connect to the database using the bound port\n",
    "engine = create_engine('mysql+pymysql://{}:{}@{}:{}/{}'.format(envDict[\"DB_USERNAME\"], envDict[\"DB_PASSWORD\"], \"127.0.0.1\", server.local_bind_port, \"hospital_price_transparency\"))"
   ]
  },
  {
   "cell_type": "code",
   "execution_count": 5,
   "metadata": {},
   "outputs": [
    {
     "data": {
      "text/html": [
       "<div>\n",
       "<style scoped>\n",
       "    .dataframe tbody tr th:only-of-type {\n",
       "        vertical-align: middle;\n",
       "    }\n",
       "\n",
       "    .dataframe tbody tr th {\n",
       "        vertical-align: top;\n",
       "    }\n",
       "\n",
       "    .dataframe thead th {\n",
       "        text-align: right;\n",
       "    }\n",
       "</style>\n",
       "<table border=\"1\" class=\"dataframe\">\n",
       "  <thead>\n",
       "    <tr style=\"text-align: right;\">\n",
       "      <th></th>\n",
       "      <th>code</th>\n",
       "      <th>npi_number</th>\n",
       "      <th>payer</th>\n",
       "      <th>price</th>\n",
       "    </tr>\n",
       "  </thead>\n",
       "  <tbody>\n",
       "    <tr>\n",
       "      <th>0</th>\n",
       "      <td>084206</td>\n",
       "      <td>1003139775.0</td>\n",
       "      <td>CASH</td>\n",
       "      <td>631.02</td>\n",
       "    </tr>\n",
       "    <tr>\n",
       "      <th>1</th>\n",
       "      <td>084206</td>\n",
       "      <td>1003858408</td>\n",
       "      <td>CASH</td>\n",
       "      <td>200.00</td>\n",
       "    </tr>\n",
       "    <tr>\n",
       "      <th>2</th>\n",
       "      <td>084206</td>\n",
       "      <td>1003858408.0</td>\n",
       "      <td>CASH</td>\n",
       "      <td>200.00</td>\n",
       "    </tr>\n",
       "    <tr>\n",
       "      <th>3</th>\n",
       "      <td>084206</td>\n",
       "      <td>1003862053.0</td>\n",
       "      <td>CASH</td>\n",
       "      <td>113.00</td>\n",
       "    </tr>\n",
       "    <tr>\n",
       "      <th>4</th>\n",
       "      <td>084206</td>\n",
       "      <td>1003908443.0</td>\n",
       "      <td>CASH</td>\n",
       "      <td>51.00</td>\n",
       "    </tr>\n",
       "  </tbody>\n",
       "</table>\n",
       "</div>"
      ],
      "text/plain": [
       "     code    npi_number payer   price\n",
       "0  084206  1003139775.0  CASH  631.02\n",
       "1  084206    1003858408  CASH  200.00\n",
       "2  084206  1003858408.0  CASH  200.00\n",
       "3  084206  1003862053.0  CASH  113.00\n",
       "4  084206  1003908443.0  CASH   51.00"
      ]
     },
     "execution_count": 5,
     "metadata": {},
     "output_type": "execute_result"
    }
   ],
   "source": [
    "# This wildcard match crashes locally, takes about 35-40 seconds on the server\n",
    "with engine.connect() as connection:\n",
    "    prices_df = pd.read_sql_query(text(\"SELECT * FROM prices WHERE code LIKE '%84206%'\"), con=connection)\n",
    "\n",
    "prices_df.head()"
   ]
  },
  {
   "cell_type": "code",
   "execution_count": 8,
   "metadata": {},
   "outputs": [
    {
     "name": "stdout",
     "output_type": "stream",
     "text": [
      "Unique count:  253\n",
      "Unique codes:  ['084206' '084206,1' '84206' '84206,1' '84206,2' '84206,3' '84206,4'\n",
      " '84206,90' '84206-00' '84206-01' '84206-02' '84206-1' 'CPT 84206'\n",
      " 'CPTÂ® 84206' 'CPTÂ® 84206,1' 'CPTÂ® 84206,10' 'CPTÂ® 84206,100'\n",
      " 'CPTÂ® 84206,101' 'CPTÂ® 84206,102' 'CPTÂ® 84206,103' 'CPTÂ® 84206,104'\n",
      " 'CPTÂ® 84206,105' 'CPTÂ® 84206,106' 'CPTÂ® 84206,107' 'CPTÂ® 84206,108'\n",
      " 'CPTÂ® 84206,109' 'CPTÂ® 84206,11' 'CPTÂ® 84206,110' 'CPTÂ® 84206,111'\n",
      " 'CPTÂ® 84206,112' 'CPTÂ® 84206,113' 'CPTÂ® 84206,114' 'CPTÂ® 84206,115'\n",
      " 'CPTÂ® 84206,116' 'CPTÂ® 84206,117' 'CPTÂ® 84206,118' 'CPTÂ® 84206,119'\n",
      " 'CPTÂ® 84206,12' 'CPTÂ® 84206,120' 'CPTÂ® 84206,121' 'CPTÂ® 84206,122'\n",
      " 'CPTÂ® 84206,123' 'CPTÂ® 84206,124' 'CPTÂ® 84206,125' 'CPTÂ® 84206,126'\n",
      " 'CPTÂ® 84206,127' 'CPTÂ® 84206,128' 'CPTÂ® 84206,129' 'CPTÂ® 84206,13'\n",
      " 'CPTÂ® 84206,130' 'CPTÂ® 84206,131' 'CPTÂ® 84206,132' 'CPTÂ® 84206,133'\n",
      " 'CPTÂ® 84206,134' 'CPTÂ® 84206,135' 'CPTÂ® 84206,136' 'CPTÂ® 84206,137'\n",
      " 'CPTÂ® 84206,138' 'CPTÂ® 84206,139' 'CPTÂ® 84206,14' 'CPTÂ® 84206,140'\n",
      " 'CPTÂ® 84206,141' 'CPTÂ® 84206,142' 'CPTÂ® 84206,143' 'CPTÂ® 84206,144'\n",
      " 'CPTÂ® 84206,145' 'CPTÂ® 84206,146' 'CPTÂ® 84206,147' 'CPTÂ® 84206,148'\n",
      " 'CPTÂ® 84206,149' 'CPTÂ® 84206,15' 'CPTÂ® 84206,150' 'CPTÂ® 84206,151'\n",
      " 'CPTÂ® 84206,152' 'CPTÂ® 84206,153' 'CPTÂ® 84206,154' 'CPTÂ® 84206,155'\n",
      " 'CPTÂ® 84206,156' 'CPTÂ® 84206,157' 'CPTÂ® 84206,158' 'CPTÂ® 84206,159'\n",
      " 'CPTÂ® 84206,16' 'CPTÂ® 84206,160' 'CPTÂ® 84206,161' 'CPTÂ® 84206,162'\n",
      " 'CPTÂ® 84206,163' 'CPTÂ® 84206,164' 'CPTÂ® 84206,165' 'CPTÂ® 84206,166'\n",
      " 'CPTÂ® 84206,167' 'CPTÂ® 84206,168' 'CPTÂ® 84206,169' 'CPTÂ® 84206,17'\n",
      " 'CPTÂ® 84206,170' 'CPTÂ® 84206,171' 'CPTÂ® 84206,172' 'CPTÂ® 84206,173'\n",
      " 'CPTÂ® 84206,174' 'CPTÂ® 84206,175' 'CPTÂ® 84206,176' 'CPTÂ® 84206,177'\n",
      " 'CPTÂ® 84206,178' 'CPTÂ® 84206,179' 'CPTÂ® 84206,18' 'CPTÂ® 84206,180'\n",
      " 'CPTÂ® 84206,181' 'CPTÂ® 84206,182' 'CPTÂ® 84206,183' 'CPTÂ® 84206,184'\n",
      " 'CPTÂ® 84206,185' 'CPTÂ® 84206,186' 'CPTÂ® 84206,187' 'CPTÂ® 84206,188'\n",
      " 'CPTÂ® 84206,189' 'CPTÂ® 84206,19' 'CPTÂ® 84206,190' 'CPTÂ® 84206,191'\n",
      " 'CPTÂ® 84206,192' 'CPTÂ® 84206,193' 'CPTÂ® 84206,194' 'CPTÂ® 84206,195'\n",
      " 'CPTÂ® 84206,196' 'CPTÂ® 84206,197' 'CPTÂ® 84206,198' 'CPTÂ® 84206,199'\n",
      " 'CPTÂ® 84206,2' 'CPTÂ® 84206,20' 'CPTÂ® 84206,200' 'CPTÂ® 84206,201'\n",
      " 'CPTÂ® 84206,202' 'CPTÂ® 84206,203' 'CPTÂ® 84206,204' 'CPTÂ® 84206,205'\n",
      " 'CPTÂ® 84206,206' 'CPTÂ® 84206,207' 'CPTÂ® 84206,208' 'CPTÂ® 84206,209'\n",
      " 'CPTÂ® 84206,21' 'CPTÂ® 84206,210' 'CPTÂ® 84206,211' 'CPTÂ® 84206,212'\n",
      " 'CPTÂ® 84206,213' 'CPTÂ® 84206,214' 'CPTÂ® 84206,215' 'CPTÂ® 84206,216'\n",
      " 'CPTÂ® 84206,217' 'CPTÂ® 84206,218' 'CPTÂ® 84206,219' 'CPTÂ® 84206,22'\n",
      " 'CPTÂ® 84206,220' 'CPTÂ® 84206,221' 'CPTÂ® 84206,222' 'CPTÂ® 84206,223'\n",
      " 'CPTÂ® 84206,224' 'CPTÂ® 84206,225' 'CPTÂ® 84206,226' 'CPTÂ® 84206,227'\n",
      " 'CPTÂ® 84206,228' 'CPTÂ® 84206,229' 'CPTÂ® 84206,23' 'CPTÂ® 84206,230'\n",
      " 'CPTÂ® 84206,231' 'CPTÂ® 84206,232' 'CPTÂ® 84206,233' 'CPTÂ® 84206,24'\n",
      " 'CPTÂ® 84206,25' 'CPTÂ® 84206,26' 'CPTÂ® 84206,27' 'CPTÂ® 84206,28'\n",
      " 'CPTÂ® 84206,29' 'CPTÂ® 84206,3' 'CPTÂ® 84206,30' 'CPTÂ® 84206,31'\n",
      " 'CPTÂ® 84206,32' 'CPTÂ® 84206,33' 'CPTÂ® 84206,34' 'CPTÂ® 84206,35'\n",
      " 'CPTÂ® 84206,36' 'CPTÂ® 84206,37' 'CPTÂ® 84206,38' 'CPTÂ® 84206,39'\n",
      " 'CPTÂ® 84206,4' 'CPTÂ® 84206,40' 'CPTÂ® 84206,41' 'CPTÂ® 84206,42'\n",
      " 'CPTÂ® 84206,43' 'CPTÂ® 84206,44' 'CPTÂ® 84206,45' 'CPTÂ® 84206,46'\n",
      " 'CPTÂ® 84206,47' 'CPTÂ® 84206,48' 'CPTÂ® 84206,49' 'CPTÂ® 84206,5'\n",
      " 'CPTÂ® 84206,50' 'CPTÂ® 84206,51' 'CPTÂ® 84206,52' 'CPTÂ® 84206,53'\n",
      " 'CPTÂ® 84206,54' 'CPTÂ® 84206,55' 'CPTÂ® 84206,56' 'CPTÂ® 84206,57'\n",
      " 'CPTÂ® 84206,58' 'CPTÂ® 84206,59' 'CPTÂ® 84206,6' 'CPTÂ® 84206,60'\n",
      " 'CPTÂ® 84206,61' 'CPTÂ® 84206,62' 'CPTÂ® 84206,63' 'CPTÂ® 84206,64'\n",
      " 'CPTÂ® 84206,65' 'CPTÂ® 84206,66' 'CPTÂ® 84206,67' 'CPTÂ® 84206,68'\n",
      " 'CPTÂ® 84206,69' 'CPTÂ® 84206,7' 'CPTÂ® 84206,70' 'CPTÂ® 84206,71'\n",
      " 'CPTÂ® 84206,72' 'CPTÂ® 84206,73' 'CPTÂ® 84206,74' 'CPTÂ® 84206,75'\n",
      " 'CPTÂ® 84206,76' 'CPTÂ® 84206,77' 'CPTÂ® 84206,78' 'CPTÂ® 84206,79'\n",
      " 'CPTÂ® 84206,8' 'CPTÂ® 84206,80' 'CPTÂ® 84206,81' 'CPTÂ® 84206,82'\n",
      " 'CPTÂ® 84206,83' 'CPTÂ® 84206,84' 'CPTÂ® 84206,85' 'CPTÂ® 84206,86'\n",
      " 'CPTÂ® 84206,87' 'CPTÂ® 84206,88' 'CPTÂ® 84206,89' 'CPTÂ® 84206,9'\n",
      " 'CPTÂ® 84206,90' 'CPTÂ® 84206,91' 'CPTÂ® 84206,92' 'CPTÂ® 84206,93'\n",
      " 'CPTÂ® 84206,94' 'CPTÂ® 84206,95' 'CPTÂ® 84206,96' 'CPTÂ® 84206,97'\n",
      " 'CPTÂ® 84206,98' 'CPTÂ® 84206,99' 'Custom 27200005,184206'\n",
      " 'Custom 27200005,284206' 'Custom 27200005,84206' 'HCPCS 63600010,84206'\n",
      " 'HCPCS C1713,84206' 'HCPCS C1776,84206']\n"
     ]
    }
   ],
   "source": [
    "# This is the list of unique codes that match the wildcard\n",
    "uniques = prices_df[\"code\"].unique()\n",
    "print(\"Unique count: \", len(uniques))\n",
    "print(\"Unique codes: \", uniques)"
   ]
  }
 ],
 "metadata": {
  "kernelspec": {
   "display_name": "Python 3",
   "language": "python",
   "name": "python3"
  },
  "language_info": {
   "codemirror_mode": {
    "name": "ipython",
    "version": 3
   },
   "file_extension": ".py",
   "mimetype": "text/x-python",
   "name": "python",
   "nbconvert_exporter": "python",
   "pygments_lexer": "ipython3",
   "version": "3.11.1"
  }
 },
 "nbformat": 4,
 "nbformat_minor": 2
}
