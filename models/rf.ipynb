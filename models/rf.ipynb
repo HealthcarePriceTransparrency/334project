{
 "cells": [
  {
   "cell_type": "markdown",
   "metadata": {},
   "source": [
    "# Random Forest Regression Model\n",
    "---"
   ]
  },
  {
   "cell_type": "code",
   "execution_count": 1,
   "metadata": {},
   "outputs": [],
   "source": [
    "import time\n",
    "import numpy as np\n",
    "import pandas as pd\n",
    "from scipy import stats\n",
    "from sklearn import metrics\n",
    "from sklearn import tree\n",
    "from sklearn.tree import plot_tree, DecisionTreeClassifier\n",
    "from sklearn.ensemble import RandomForestRegressor\n",
    "from sklearn.metrics import r2_score\n",
    "from sklearn.model_selection import StratifiedKFold, KFold, cross_val_score, cross_validate"
   ]
  },
  {
   "cell_type": "markdown",
   "metadata": {},
   "source": [
    "### Config"
   ]
  },
  {
   "cell_type": "code",
   "execution_count": 2,
   "metadata": {},
   "outputs": [],
   "source": [
    "# Can we get better labels (?)\n",
    "n = 100\n",
    "m = 450\n",
    "l = 1\n",
    "k = 5"
   ]
  },
  {
   "cell_type": "markdown",
   "metadata": {},
   "source": [
    "### Setup"
   ]
  },
  {
   "cell_type": "code",
   "execution_count": 3,
   "metadata": {},
   "outputs": [
    {
     "name": "stdout",
     "output_type": "stream",
     "text": [
      "xtrain shape: (7001, 4)\n",
      "ytrain shape: (7001, 1)\n"
     ]
    }
   ],
   "source": [
    "start = time.time()\n",
    "\n",
    "# reading already split data\n",
    "xtrain = pd.read_csv(\"../data/84206/xTrain.csv\")\n",
    "xtest = pd.read_csv(\"../data/84206/xTest.csv\")\n",
    "ytrain = pd.read_csv(\"../data/84206/yTrain.csv\")\n",
    "ytest = pd.read_csv(\"../data/84206/yTest.csv\")\n",
    "\n",
    "# Get our data to numpy arrays\n",
    "xtrain = xtrain.to_numpy()\n",
    "ytrain = ytrain.to_numpy()\n",
    "xtest = xtest.to_numpy()\n",
    "ytest = ytest.to_numpy()\n",
    "\n",
    "# Print the shape of our data\n",
    "print(\"xtrain shape:\", xtrain.shape)\n",
    "print(\"ytrain shape:\", ytrain.shape)"
   ]
  },
  {
   "cell_type": "markdown",
   "metadata": {},
   "source": [
    "### Model"
   ]
  },
  {
   "cell_type": "code",
   "execution_count": 4,
   "metadata": {},
   "outputs": [],
   "source": [
    "# Create the model and fit our training data to it\n",
    "forest = RandomForestRegressor(n_estimators=n, max_depth=m, min_samples_leaf=l)\n",
    "forest.fit(xtrain, ytrain.ravel())\n",
    "\n",
    "# Use the trained model on the testing and training data\n",
    "testPred = forest.predict(xtest)\n",
    "trainPred = forest.predict(xtrain)"
   ]
  },
  {
   "cell_type": "markdown",
   "metadata": {},
   "source": [
    "### Measuring Accuracy"
   ]
  },
  {
   "cell_type": "markdown",
   "metadata": {},
   "source": [
    "#### R2 Score\n",
    "How well the variation of the predicted matches the variation in the actual (0-1)"
   ]
  },
  {
   "cell_type": "code",
   "execution_count": 5,
   "metadata": {},
   "outputs": [
    {
     "name": "stdout",
     "output_type": "stream",
     "text": [
      "Time Elapsed:  3.842583656311035\n",
      "n_estimators:  100\n",
      "max_depth:  450\n",
      "min_samples_leaf:  1\n",
      "Train R2:  0.9331227466104666\n",
      "Test R2:  0.7139395254456623\n"
     ]
    }
   ],
   "source": [
    "trainr2 = r2_score(trainPred, ytrain)\n",
    "testr2 = r2_score(testPred, ytest)\n",
    "timeElapsed = time.time() - start\n",
    "\n",
    "print(\"Time Elapsed: \", timeElapsed)\n",
    "print(\"n_estimators: \", n)\n",
    "print(\"max_depth: \", m)\n",
    "print(\"min_samples_leaf: \", l)\n",
    "\n",
    "print(\"Train R2: \", trainr2)\n",
    "print(\"Test R2: \", testr2)"
   ]
  }
 ],
 "metadata": {
  "kernelspec": {
   "display_name": "Python 3",
   "language": "python",
   "name": "python3"
  },
  "language_info": {
   "codemirror_mode": {
    "name": "ipython",
    "version": 3
   },
   "file_extension": ".py",
   "mimetype": "text/x-python",
   "name": "python",
   "nbconvert_exporter": "python",
   "pygments_lexer": "ipython3",
   "version": "3.11.1"
  }
 },
 "nbformat": 4,
 "nbformat_minor": 2
}
