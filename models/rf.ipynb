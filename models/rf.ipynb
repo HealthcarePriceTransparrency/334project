{
 "cells": [
  {
   "cell_type": "markdown",
   "metadata": {},
   "source": [
    "# Random Forest Regression Model\n",
    "---"
   ]
  },
  {
   "cell_type": "code",
   "execution_count": 49,
   "metadata": {},
   "outputs": [],
   "source": [
    "import time\n",
    "import numpy as np\n",
    "import pandas as pd\n",
    "from scipy import stats\n",
    "from sklearn.ensemble import RandomForestRegressor\n",
    "from sklearn.metrics import r2_score, mean_squared_error"
   ]
  },
  {
   "cell_type": "markdown",
   "metadata": {},
   "source": [
    "### Config"
   ]
  },
  {
   "cell_type": "code",
   "execution_count": 50,
   "metadata": {},
   "outputs": [],
   "source": [
    "# variable labels\n",
    "n = 500 # number of samples\n",
    "f = 450 # number of features\n",
    "l = 1 # minLeaf\n",
    "\n",
    "\n",
    "# Test against the single code \"84206\" or all codes beginning with 842\n",
    "singleCode = False\n",
    "\n",
    "if singleCode:\n",
    "    dataFolder = \"../data/84206/\"\n",
    "else:\n",
    "    dataFolder = \"../data/842_ALL/\""
   ]
  },
  {
   "cell_type": "markdown",
   "metadata": {},
   "source": [
    "### Setup"
   ]
  },
  {
   "cell_type": "code",
   "execution_count": 51,
   "metadata": {},
   "outputs": [
    {
     "name": "stdout",
     "output_type": "stream",
     "text": [
      "xtrain shape: (105904, 5)\n",
      "ytrain shape: (105904, 1)\n"
     ]
    }
   ],
   "source": [
    "start = time.time()\n",
    "\n",
    "# reading already split data\n",
    "xtrain = pd.read_csv(dataFolder + \"xTrain.csv\")\n",
    "xtest = pd.read_csv(dataFolder + \"xTest.csv\")\n",
    "ytrain = pd.read_csv(dataFolder + \"yTrain.csv\")\n",
    "ytest = pd.read_csv(dataFolder + \"yTest.csv\")\n",
    "\n",
    "# Get our data to numpy arrays\n",
    "xtrain = xtrain.to_numpy()\n",
    "ytrain = ytrain.to_numpy()\n",
    "xtest = xtest.to_numpy()\n",
    "ytest = ytest.to_numpy()\n",
    "\n",
    "# Print the shape of our data\n",
    "print(\"xtrain shape:\", xtrain.shape)\n",
    "print(\"ytrain shape:\", ytrain.shape)"
   ]
  },
  {
   "cell_type": "markdown",
   "metadata": {},
   "source": [
    "### Model"
   ]
  },
  {
   "cell_type": "code",
   "execution_count": 52,
   "metadata": {},
   "outputs": [],
   "source": [
    "# Create the model and fit our training data to it\n",
    "forest = RandomForestRegressor(n_estimators=n, max_features = f, min_samples_leaf=l)\n",
    "forest.fit(xtrain, ytrain.ravel())\n",
    "\n",
    "# Use the trained model on the testing and training data\n",
    "testPred = forest.predict(xtest)\n",
    "trainPred = forest.predict(xtrain)"
   ]
  },
  {
   "cell_type": "markdown",
   "metadata": {},
   "source": [
    "### Measuring Accuracy"
   ]
  },
  {
   "cell_type": "markdown",
   "metadata": {},
   "source": [
    "#### R2 Score\n",
    "How well the variation of the predicted matches the variation in the actual (0-1)\n",
    "#### MSE\n",
    "How closely the predicted value is to the actual value"
   ]
  },
  {
   "cell_type": "code",
   "execution_count": null,
   "metadata": {},
   "outputs": [
    {
     "name": "stdout",
     "output_type": "stream",
     "text": [
      "Time Elapsed:  27.837169647216797\n",
      "n_estimators:  500\n",
      "max_features:  450\n",
      "min_samples_leaf:  1\n",
      "\n",
      "Train R2:  0.9898402041954318,"
      "Test R2:  0.9515664074697742,"
      "Train MSE:  0.009508284401870395,"
      "Test MSE:  0.04622655483000907"
     ]
    }
   ],
   "source": [
    "trainr2 = r2_score(trainPred, ytrain)\n",
    "testr2 = r2_score(testPred, ytest)\n",
    "trainMSE = mean_squared_error(trainPred, ytrain)\n",
    "testMSE = mean_squared_error(testPred, ytest)\n",
    "timeElapsed = time.time() - start\n",
    "\n",
    "\n",
    "print(\"Time Elapsed: \", timeElapsed)\n",
    "print(\"n_estimators: \", n)\n",
    "print(\"max_features: \", f)\n",
    "print(\"min_samples_leaf: \", l)\n",
    "\n",
    "print(\"\\nTrain R2: \", trainr2)\n",
    "print(\"Test R2: \", testr2)\n",
    "print(\"Train MSE: \", trainMSE)\n",
    "print(\"Test MSE: \", testMSE)"
   ]
  }
 ],
 "metadata": {
  "kernelspec": {
   "display_name": "Python 3",
   "language": "python",
   "name": "python3"
  },
  "language_info": {
   "codemirror_mode": {
    "name": "ipython",
    "version": 3
   },
   "file_extension": ".py",
   "mimetype": "text/x-python",
   "name": "python",
   "nbconvert_exporter": "python",
   "pygments_lexer": "ipython3",
   "version": "3.11.7"
  }
 },
 "nbformat": 4,
 "nbformat_minor": 2
}
