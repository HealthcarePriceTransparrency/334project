{
 "cells": [
  {
   "cell_type": "markdown",
   "metadata": {},
   "source": [
    "# KNN Regression Model\n",
    "Quick model for our data"
   ]
  },
  {
   "cell_type": "markdown",
   "metadata": {},
   "source": [
    "### Setup"
   ]
  },
  {
   "cell_type": "code",
   "execution_count": 1,
   "metadata": {},
   "outputs": [],
   "source": [
    "from sklearn.neighbors import KNeighborsRegressor\n",
    "import pandas as pd\n",
    "import time\n",
    "from sklearn.metrics import mean_absolute_error, mean_squared_error, r2_score, median_absolute_error"
   ]
  },
  {
   "cell_type": "code",
   "execution_count": 2,
   "metadata": {},
   "outputs": [
    {
     "name": "stdout",
     "output_type": "stream",
     "text": [
      "xtrain shape: (7001, 4)\n",
      "ytrain shape: (7001, 1)\n"
     ]
    }
   ],
   "source": [
    "# Start time\n",
    "start = time.time()\n",
    "\n",
    "# Read in our processed data\n",
    "xtrain = pd.read_csv(\"xTrain.csv\")\n",
    "xtest = pd.read_csv(\"xTest.csv\")\n",
    "ytrain = pd.read_csv(\"yTrain.csv\")\n",
    "ytest = pd.read_csv(\"yTest.csv\")\n",
    "\n",
    "# Get our data to numpy arrays\n",
    "xtrain = xtrain.to_numpy()\n",
    "ytrain = ytrain.to_numpy()\n",
    "xtest = xtest.to_numpy()\n",
    "ytest = ytest.to_numpy()\n",
    "\n",
    "# Print the shape of our data\n",
    "print(\"xtrain shape:\", xtrain.shape)\n",
    "print(\"ytrain shape:\", ytrain.shape)"
   ]
  },
  {
   "cell_type": "markdown",
   "metadata": {},
   "source": [
    "### Model"
   ]
  },
  {
   "cell_type": "code",
   "execution_count": 3,
   "metadata": {},
   "outputs": [],
   "source": [
    "# Create the model and fit our training data to it\n",
    "knn = KNeighborsRegressor(n_neighbors=6)\n",
    "knn.fit(xtrain, ytrain)\n",
    "\n",
    "# Use the trained model on the testing and training data\n",
    "testPred = knn.predict(xtest)\n",
    "trainPred = knn.predict(xtrain)"
   ]
  },
  {
   "cell_type": "markdown",
   "metadata": {},
   "source": [
    "### Measuring Accuracy\n",
    "Not sure which metric to choose, so I went with a few:"
   ]
  },
  {
   "cell_type": "markdown",
   "metadata": {},
   "source": [
    "#### Mean Absolute Error\n",
    "Shows average magnitude of errors"
   ]
  },
  {
   "cell_type": "code",
   "execution_count": 4,
   "metadata": {},
   "outputs": [
    {
     "name": "stdout",
     "output_type": "stream",
     "text": [
      "Test Mean Absolute Error: 0.13597014873452304\n",
      "Train Mean Absolute Error: 0.13214068256539496\n"
     ]
    }
   ],
   "source": [
    "print(\"Test Mean Absolute Error:\", mean_absolute_error(ytest, testPred))\n",
    "print(\"Train Mean Absolute Error:\", mean_absolute_error(ytrain, trainPred))"
   ]
  },
  {
   "cell_type": "markdown",
   "metadata": {},
   "source": [
    "#### Mean Squared Error\n",
    "Shows average magnitude of errors, but weighs larger errors more than MAE"
   ]
  },
  {
   "cell_type": "code",
   "execution_count": 5,
   "metadata": {},
   "outputs": [
    {
     "name": "stdout",
     "output_type": "stream",
     "text": [
      "Test Mean Squared Error: 0.07191967999673347\n",
      "Train Mean Squared Error: 0.39990897853107743\n"
     ]
    }
   ],
   "source": [
    "print(\"Test Mean Squared Error:\", mean_squared_error(ytest, testPred))\n",
    "print(\"Train Mean Squared Error:\", mean_squared_error(ytrain, trainPred))"
   ]
  },
  {
   "cell_type": "markdown",
   "metadata": {},
   "source": [
    "#### R2 Score\n",
    "How well the variation of the predicted matches the variation in the actual (0-1)"
   ]
  },
  {
   "cell_type": "code",
   "execution_count": 6,
   "metadata": {},
   "outputs": [
    {
     "name": "stdout",
     "output_type": "stream",
     "text": [
      "Test R2: 0.8713803040996428\n",
      "Train R2: 0.6397757844687746\n"
     ]
    }
   ],
   "source": [
    "print(\"Test R2:\", r2_score(ytest, testPred))\n",
    "print(\"Train R2:\", r2_score(ytrain, trainPred))"
   ]
  },
  {
   "cell_type": "markdown",
   "metadata": {},
   "source": [
    "#### Median Absolute Error\n",
    "Uses median instead of mean for error magnitude - less sensitive to outliers"
   ]
  },
  {
   "cell_type": "code",
   "execution_count": 7,
   "metadata": {},
   "outputs": [
    {
     "name": "stdout",
     "output_type": "stream",
     "text": [
      "Test Median Absolute Error: 0.05344826213077272\n",
      "Train Median Absolute Error: 0.04039029712779443\n"
     ]
    }
   ],
   "source": [
    "print(\"Test Median Absolute Error:\", median_absolute_error(ytest, testPred))\n",
    "print(\"Train Median Absolute Error:\", median_absolute_error(ytrain, trainPred))"
   ]
  }
 ],
 "metadata": {
  "kernelspec": {
   "display_name": "Python 3",
   "language": "python",
   "name": "python3"
  },
  "language_info": {
   "codemirror_mode": {
    "name": "ipython",
    "version": 3
   },
   "file_extension": ".py",
   "mimetype": "text/x-python",
   "name": "python",
   "nbconvert_exporter": "python",
   "pygments_lexer": "ipython3",
   "version": "3.11.1"
  }
 },
 "nbformat": 4,
 "nbformat_minor": 2
}
