{
 "cells": [
  {
   "cell_type": "code",
   "execution_count": 22,
   "metadata": {},
   "outputs": [],
   "source": [
    "from dotenv import dotenv_values\n",
    "import pandas as pd\n",
    "from sqlalchemy import create_engine, text\n",
    "from sshtunnel import SSHTunnelForwarder"
   ]
  },
  {
   "cell_type": "code",
   "execution_count": 23,
   "metadata": {},
   "outputs": [],
   "source": [
    "# Load credentials from .env file\n",
    "envDict = dotenv_values(\"../secrets/.env\")"
   ]
  },
  {
   "cell_type": "code",
   "execution_count": 24,
   "metadata": {},
   "outputs": [],
   "source": [
    "# Create a bind to forward connections on the local port to the mysql port on the server\n",
    "server = SSHTunnelForwarder(\n",
    "    # Host URL and Login\n",
    "    envDict['SSH_HOST'],\n",
    "    ssh_username = envDict['SSH_USERNAME'],\n",
    "    # Private key for SSH connections\n",
    "    ssh_pkey = envDict[\"SSH_PKEY_PATH\"],\n",
    "    ssh_private_key_password = envDict['SSH_PKEY_PASSWORD'],\n",
    "    # Bind to mysql port on server\n",
    "    remote_bind_address = (envDict[\"DB_REMOTE_REF_URL\"], int(envDict[\"DB_REMOTE_REF_PORT\"])),\n",
    "    # Don't look for keys on the local machine\n",
    "    allow_agent = False,\n",
    "    host_pkey_directories = [],\n",
    ")\n",
    "# Start the tunneled connection\n",
    "server.start()"
   ]
  },
  {
   "cell_type": "code",
   "execution_count": 25,
   "metadata": {},
   "outputs": [],
   "source": [
    "# Create the engine to connect to the database using the tunnel\n",
    "engine = create_engine('mysql+pymysql://{}:{}@{}:{}/{}'.format(envDict[\"DB_USERNAME\"], envDict[\"DB_PASSWORD\"], \"127.0.0.1\", server.local_bind_port, \"hospital_price_transparency\"))"
   ]
  },
  {
   "cell_type": "code",
   "execution_count": 84,
   "metadata": {},
   "outputs": [
    {
     "data": {
      "text/html": [
       "<div>\n",
       "<style scoped>\n",
       "    .dataframe tbody tr th:only-of-type {\n",
       "        vertical-align: middle;\n",
       "    }\n",
       "\n",
       "    .dataframe tbody tr th {\n",
       "        vertical-align: top;\n",
       "    }\n",
       "\n",
       "    .dataframe thead th {\n",
       "        text-align: right;\n",
       "    }\n",
       "</style>\n",
       "<table border=\"1\" class=\"dataframe\">\n",
       "  <thead>\n",
       "    <tr style=\"text-align: right;\">\n",
       "      <th></th>\n",
       "      <th>code</th>\n",
       "      <th>npi_number</th>\n",
       "      <th>payer</th>\n",
       "      <th>price</th>\n",
       "      <th>name</th>\n",
       "      <th>url</th>\n",
       "      <th>street_address</th>\n",
       "      <th>city</th>\n",
       "      <th>state</th>\n",
       "      <th>zip_code</th>\n",
       "      <th>publish_date</th>\n",
       "    </tr>\n",
       "  </thead>\n",
       "  <tbody>\n",
       "    <tr>\n",
       "      <th>0</th>\n",
       "      <td>842</td>\n",
       "      <td>1700979465</td>\n",
       "      <td>AETNA</td>\n",
       "      <td>14.94</td>\n",
       "      <td>Baptist Hospital</td>\n",
       "      <td>https://baptisthealthcare.pt.panaceainc.com/MR...</td>\n",
       "      <td>1000 West Moreno St</td>\n",
       "      <td>Pensacola</td>\n",
       "      <td>FL</td>\n",
       "      <td>32501</td>\n",
       "      <td>None</td>\n",
       "    </tr>\n",
       "    <tr>\n",
       "      <th>1</th>\n",
       "      <td>842</td>\n",
       "      <td>1700979465</td>\n",
       "      <td>BC FL</td>\n",
       "      <td>15.69</td>\n",
       "      <td>Baptist Hospital</td>\n",
       "      <td>https://baptisthealthcare.pt.panaceainc.com/MR...</td>\n",
       "      <td>1000 West Moreno St</td>\n",
       "      <td>Pensacola</td>\n",
       "      <td>FL</td>\n",
       "      <td>32501</td>\n",
       "      <td>None</td>\n",
       "    </tr>\n",
       "    <tr>\n",
       "      <th>2</th>\n",
       "      <td>842</td>\n",
       "      <td>1700979465</td>\n",
       "      <td>CHA HEALTH PLAN</td>\n",
       "      <td>14.94</td>\n",
       "      <td>Baptist Hospital</td>\n",
       "      <td>https://baptisthealthcare.pt.panaceainc.com/MR...</td>\n",
       "      <td>1000 West Moreno St</td>\n",
       "      <td>Pensacola</td>\n",
       "      <td>FL</td>\n",
       "      <td>32501</td>\n",
       "      <td>None</td>\n",
       "    </tr>\n",
       "    <tr>\n",
       "      <th>3</th>\n",
       "      <td>842</td>\n",
       "      <td>1700979465</td>\n",
       "      <td>FL COMMUNITY CARE LTC</td>\n",
       "      <td>15.99</td>\n",
       "      <td>Baptist Hospital</td>\n",
       "      <td>https://baptisthealthcare.pt.panaceainc.com/MR...</td>\n",
       "      <td>1000 West Moreno St</td>\n",
       "      <td>Pensacola</td>\n",
       "      <td>FL</td>\n",
       "      <td>32501</td>\n",
       "      <td>None</td>\n",
       "    </tr>\n",
       "    <tr>\n",
       "      <th>4</th>\n",
       "      <td>842</td>\n",
       "      <td>1700979465</td>\n",
       "      <td>LIGHTHOUSE MCAID PSN</td>\n",
       "      <td>15.99</td>\n",
       "      <td>Baptist Hospital</td>\n",
       "      <td>https://baptisthealthcare.pt.panaceainc.com/MR...</td>\n",
       "      <td>1000 West Moreno St</td>\n",
       "      <td>Pensacola</td>\n",
       "      <td>FL</td>\n",
       "      <td>32501</td>\n",
       "      <td>None</td>\n",
       "    </tr>\n",
       "  </tbody>\n",
       "</table>\n",
       "</div>"
      ],
      "text/plain": [
       "  code  npi_number                  payer  price              name  \\\n",
       "0  842  1700979465                  AETNA  14.94  Baptist Hospital   \n",
       "1  842  1700979465                  BC FL  15.69  Baptist Hospital   \n",
       "2  842  1700979465        CHA HEALTH PLAN  14.94  Baptist Hospital   \n",
       "3  842  1700979465  FL COMMUNITY CARE LTC  15.99  Baptist Hospital   \n",
       "4  842  1700979465   LIGHTHOUSE MCAID PSN  15.99  Baptist Hospital   \n",
       "\n",
       "                                                 url       street_address  \\\n",
       "0  https://baptisthealthcare.pt.panaceainc.com/MR...  1000 West Moreno St   \n",
       "1  https://baptisthealthcare.pt.panaceainc.com/MR...  1000 West Moreno St   \n",
       "2  https://baptisthealthcare.pt.panaceainc.com/MR...  1000 West Moreno St   \n",
       "3  https://baptisthealthcare.pt.panaceainc.com/MR...  1000 West Moreno St   \n",
       "4  https://baptisthealthcare.pt.panaceainc.com/MR...  1000 West Moreno St   \n",
       "\n",
       "        city state zip_code publish_date  \n",
       "0  Pensacola    FL    32501         None  \n",
       "1  Pensacola    FL    32501         None  \n",
       "2  Pensacola    FL    32501         None  \n",
       "3  Pensacola    FL    32501         None  \n",
       "4  Pensacola    FL    32501         None  "
      ]
     },
     "execution_count": 84,
     "metadata": {},
     "output_type": "execute_result"
    }
   ],
   "source": [
    "# This wildcard match crashes locally, takes about 35-40 seconds on the server\n",
    "with engine.connect() as connection:\n",
    "    prices_df = pd.read_sql_query(text(\"SELECT * FROM prices WHERE code LIKE '842%' LIMIT 1000000\"), con=connection)\n",
    "    hospital_df = pd.read_sql_query(text(\"SELECT * FROM hospitals WHERE npi_number in (SELECT npi_number FROM prices WHERE code LIKE '842%') LIMIT 1000000\"), con=connection)\n",
    "\n",
    "merged_df = pd.merge(prices_df, hospital_df, on='npi_number')\n",
    "\n",
    "merged_df.head()"
   ]
  },
  {
   "cell_type": "code",
   "execution_count": 85,
   "metadata": {},
   "outputs": [
    {
     "name": "stdout",
     "output_type": "stream",
     "text": [
      "140835\n"
     ]
    }
   ],
   "source": [
    "print(len(merged_df)) #checking how many rows resulted from query"
   ]
  },
  {
   "cell_type": "code",
   "execution_count": 91,
   "metadata": {},
   "outputs": [
    {
     "name": "stdout",
     "output_type": "stream",
     "text": [
      "['FL' 'NE' 'SC' 'MS' 'HI' 'CA' 'TX' 'ME' 'MA' None 'RI' 'KS' 'NC' 'TN'\n",
      " 'NH' 'MN' 'ID' 'CT' 'MI' 'MD' 'MO' 'NV' 'WI' 'AL' 'KY' 'VA' 'CO' 'OK'\n",
      " 'DE' 'IL' 'AZ' 'NY' 'IN' 'ND' 'NJ' 'WA' 'WY' 'NM' 'GA' 'OR' 'UT' 'DC'\n",
      " 'VT' 'WV' 'OH' 'PA' 'IA' '73' 'SD' 'L ' 'AR' 'LA']\n"
     ]
    }
   ],
   "source": [
    "#uniques = prices_df[\"code\"].unique()\n",
    "#print(\"Unique count: \", len(uniques))\n",
    "#print(\"Unique codes: \", uniques)\n",
    "\n",
    "foo = merged_df.state.unique() #checking the variety of states\n",
    "print(foo)"
   ]
  },
  {
   "cell_type": "code",
   "execution_count": 93,
   "metadata": {},
   "outputs": [],
   "source": [
    "with open('842entries.csv', 'w', encoding=\"utf-8\") as f:\n",
    "    f.write(merged_df.to_csv())"
   ]
  }
 ],
 "metadata": {
  "kernelspec": {
   "display_name": "Python 3.11.5 ('sklearn-env')",
   "language": "python",
   "name": "python3"
  },
  "language_info": {
   "codemirror_mode": {
    "name": "ipython",
    "version": 3
   },
   "file_extension": ".py",
   "mimetype": "text/x-python",
   "name": "python",
   "nbconvert_exporter": "python",
   "pygments_lexer": "ipython3",
   "version": "3.11.5"
  },
  "vscode": {
   "interpreter": {
    "hash": "611352f5978b1235c108ac50e4c651ac98f23cc2e9a9cdf27562626bd378e331"
   }
  }
 },
 "nbformat": 4,
 "nbformat_minor": 2
}
