{
 "cells": [
  {
   "cell_type": "code",
   "execution_count": 2,
   "metadata": {},
   "outputs": [],
   "source": [
    "import numpy as np\n",
    "import pandas as pd\n",
    "#from sklearn import preprocessing\n",
    "from sklearn.model_selection import train_test_split\n",
    "from sklearn.preprocessing import OrdinalEncoder\n",
    "from sklearn.preprocessing import StandardScaler"
   ]
  },
  {
   "cell_type": "code",
   "execution_count": 6,
   "metadata": {},
   "outputs": [
    {
     "name": "stderr",
     "output_type": "stream",
     "text": [
      "/var/folders/dq/p1xrtf7j2glg2v6vbxvf650m0000gn/T/ipykernel_81740/719947893.py:1: DtypeWarning: Columns (2) have mixed types. Specify dtype option on import or set low_memory=False.\n",
      "  df = pd.read_csv(\"../data/842entries.csv\") #importing data from data folder\n"
     ]
    },
    {
     "data": {
      "text/html": [
       "<div>\n",
       "<style scoped>\n",
       "    .dataframe tbody tr th:only-of-type {\n",
       "        vertical-align: middle;\n",
       "    }\n",
       "\n",
       "    .dataframe tbody tr th {\n",
       "        vertical-align: top;\n",
       "    }\n",
       "\n",
       "    .dataframe thead th {\n",
       "        text-align: right;\n",
       "    }\n",
       "</style>\n",
       "<table border=\"1\" class=\"dataframe\">\n",
       "  <thead>\n",
       "    <tr style=\"text-align: right;\">\n",
       "      <th></th>\n",
       "      <th>Unnamed: 0</th>\n",
       "      <th>code</th>\n",
       "      <th>npi_number</th>\n",
       "      <th>payer</th>\n",
       "      <th>price</th>\n",
       "      <th>name</th>\n",
       "      <th>url</th>\n",
       "      <th>street_address</th>\n",
       "      <th>city</th>\n",
       "      <th>state</th>\n",
       "      <th>zip_code</th>\n",
       "      <th>publish_date</th>\n",
       "    </tr>\n",
       "  </thead>\n",
       "  <tbody>\n",
       "    <tr>\n",
       "      <th>0</th>\n",
       "      <td>0</td>\n",
       "      <td>842</td>\n",
       "      <td>1700979465</td>\n",
       "      <td>AETNA</td>\n",
       "      <td>14.94</td>\n",
       "      <td>Baptist Hospital</td>\n",
       "      <td>https://baptisthealthcare.pt.panaceainc.com/MR...</td>\n",
       "      <td>1000 West Moreno St</td>\n",
       "      <td>Pensacola</td>\n",
       "      <td>FL</td>\n",
       "      <td>32501</td>\n",
       "      <td>NaN</td>\n",
       "    </tr>\n",
       "    <tr>\n",
       "      <th>1</th>\n",
       "      <td>1</td>\n",
       "      <td>842</td>\n",
       "      <td>1700979465</td>\n",
       "      <td>BC FL</td>\n",
       "      <td>15.69</td>\n",
       "      <td>Baptist Hospital</td>\n",
       "      <td>https://baptisthealthcare.pt.panaceainc.com/MR...</td>\n",
       "      <td>1000 West Moreno St</td>\n",
       "      <td>Pensacola</td>\n",
       "      <td>FL</td>\n",
       "      <td>32501</td>\n",
       "      <td>NaN</td>\n",
       "    </tr>\n",
       "    <tr>\n",
       "      <th>2</th>\n",
       "      <td>2</td>\n",
       "      <td>842</td>\n",
       "      <td>1700979465</td>\n",
       "      <td>CHA HEALTH PLAN</td>\n",
       "      <td>14.94</td>\n",
       "      <td>Baptist Hospital</td>\n",
       "      <td>https://baptisthealthcare.pt.panaceainc.com/MR...</td>\n",
       "      <td>1000 West Moreno St</td>\n",
       "      <td>Pensacola</td>\n",
       "      <td>FL</td>\n",
       "      <td>32501</td>\n",
       "      <td>NaN</td>\n",
       "    </tr>\n",
       "    <tr>\n",
       "      <th>3</th>\n",
       "      <td>3</td>\n",
       "      <td>842</td>\n",
       "      <td>1700979465</td>\n",
       "      <td>FL COMMUNITY CARE LTC</td>\n",
       "      <td>15.99</td>\n",
       "      <td>Baptist Hospital</td>\n",
       "      <td>https://baptisthealthcare.pt.panaceainc.com/MR...</td>\n",
       "      <td>1000 West Moreno St</td>\n",
       "      <td>Pensacola</td>\n",
       "      <td>FL</td>\n",
       "      <td>32501</td>\n",
       "      <td>NaN</td>\n",
       "    </tr>\n",
       "    <tr>\n",
       "      <th>4</th>\n",
       "      <td>4</td>\n",
       "      <td>842</td>\n",
       "      <td>1700979465</td>\n",
       "      <td>LIGHTHOUSE MCAID PSN</td>\n",
       "      <td>15.99</td>\n",
       "      <td>Baptist Hospital</td>\n",
       "      <td>https://baptisthealthcare.pt.panaceainc.com/MR...</td>\n",
       "      <td>1000 West Moreno St</td>\n",
       "      <td>Pensacola</td>\n",
       "      <td>FL</td>\n",
       "      <td>32501</td>\n",
       "      <td>NaN</td>\n",
       "    </tr>\n",
       "  </tbody>\n",
       "</table>\n",
       "</div>"
      ],
      "text/plain": [
       "   Unnamed: 0 code  npi_number                  payer  price  \\\n",
       "0           0  842  1700979465                  AETNA  14.94   \n",
       "1           1  842  1700979465                  BC FL  15.69   \n",
       "2           2  842  1700979465        CHA HEALTH PLAN  14.94   \n",
       "3           3  842  1700979465  FL COMMUNITY CARE LTC  15.99   \n",
       "4           4  842  1700979465   LIGHTHOUSE MCAID PSN  15.99   \n",
       "\n",
       "               name                                                url  \\\n",
       "0  Baptist Hospital  https://baptisthealthcare.pt.panaceainc.com/MR...   \n",
       "1  Baptist Hospital  https://baptisthealthcare.pt.panaceainc.com/MR...   \n",
       "2  Baptist Hospital  https://baptisthealthcare.pt.panaceainc.com/MR...   \n",
       "3  Baptist Hospital  https://baptisthealthcare.pt.panaceainc.com/MR...   \n",
       "4  Baptist Hospital  https://baptisthealthcare.pt.panaceainc.com/MR...   \n",
       "\n",
       "        street_address       city state zip_code publish_date  \n",
       "0  1000 West Moreno St  Pensacola    FL    32501          NaN  \n",
       "1  1000 West Moreno St  Pensacola    FL    32501          NaN  \n",
       "2  1000 West Moreno St  Pensacola    FL    32501          NaN  \n",
       "3  1000 West Moreno St  Pensacola    FL    32501          NaN  \n",
       "4  1000 West Moreno St  Pensacola    FL    32501          NaN  "
      ]
     },
     "execution_count": 6,
     "metadata": {},
     "output_type": "execute_result"
    }
   ],
   "source": [
    "df = pd.read_csv(\"../data/842entries.csv\") #importing data from data folder\n",
    "df.head()"
   ]
  },
  {
   "cell_type": "markdown",
   "metadata": {},
   "source": [
    "### Feature Trimming"
   ]
  },
  {
   "cell_type": "code",
   "execution_count": 7,
   "metadata": {},
   "outputs": [
    {
     "data": {
      "text/html": [
       "<div>\n",
       "<style scoped>\n",
       "    .dataframe tbody tr th:only-of-type {\n",
       "        vertical-align: middle;\n",
       "    }\n",
       "\n",
       "    .dataframe tbody tr th {\n",
       "        vertical-align: top;\n",
       "    }\n",
       "\n",
       "    .dataframe thead th {\n",
       "        text-align: right;\n",
       "    }\n",
       "</style>\n",
       "<table border=\"1\" class=\"dataframe\">\n",
       "  <thead>\n",
       "    <tr style=\"text-align: right;\">\n",
       "      <th></th>\n",
       "      <th>code</th>\n",
       "      <th>npi_number</th>\n",
       "      <th>payer</th>\n",
       "      <th>price</th>\n",
       "      <th>city</th>\n",
       "      <th>state</th>\n",
       "    </tr>\n",
       "  </thead>\n",
       "  <tbody>\n",
       "    <tr>\n",
       "      <th>0</th>\n",
       "      <td>842</td>\n",
       "      <td>1700979465</td>\n",
       "      <td>AETNA</td>\n",
       "      <td>14.94</td>\n",
       "      <td>Pensacola</td>\n",
       "      <td>FL</td>\n",
       "    </tr>\n",
       "    <tr>\n",
       "      <th>1</th>\n",
       "      <td>842</td>\n",
       "      <td>1700979465</td>\n",
       "      <td>BC FL</td>\n",
       "      <td>15.69</td>\n",
       "      <td>Pensacola</td>\n",
       "      <td>FL</td>\n",
       "    </tr>\n",
       "    <tr>\n",
       "      <th>2</th>\n",
       "      <td>842</td>\n",
       "      <td>1700979465</td>\n",
       "      <td>CHA HEALTH PLAN</td>\n",
       "      <td>14.94</td>\n",
       "      <td>Pensacola</td>\n",
       "      <td>FL</td>\n",
       "    </tr>\n",
       "    <tr>\n",
       "      <th>3</th>\n",
       "      <td>842</td>\n",
       "      <td>1700979465</td>\n",
       "      <td>FL COMMUNITY CARE LTC</td>\n",
       "      <td>15.99</td>\n",
       "      <td>Pensacola</td>\n",
       "      <td>FL</td>\n",
       "    </tr>\n",
       "    <tr>\n",
       "      <th>4</th>\n",
       "      <td>842</td>\n",
       "      <td>1700979465</td>\n",
       "      <td>LIGHTHOUSE MCAID PSN</td>\n",
       "      <td>15.99</td>\n",
       "      <td>Pensacola</td>\n",
       "      <td>FL</td>\n",
       "    </tr>\n",
       "  </tbody>\n",
       "</table>\n",
       "</div>"
      ],
      "text/plain": [
       "  code  npi_number                  payer  price       city state\n",
       "0  842  1700979465                  AETNA  14.94  Pensacola    FL\n",
       "1  842  1700979465                  BC FL  15.69  Pensacola    FL\n",
       "2  842  1700979465        CHA HEALTH PLAN  14.94  Pensacola    FL\n",
       "3  842  1700979465  FL COMMUNITY CARE LTC  15.99  Pensacola    FL\n",
       "4  842  1700979465   LIGHTHOUSE MCAID PSN  15.99  Pensacola    FL"
      ]
     },
     "execution_count": 7,
     "metadata": {},
     "output_type": "execute_result"
    }
   ],
   "source": [
    "#Feature Trimming\n",
    "df = df.drop(columns=['Unnamed: 0', 'name', 'url', 'street_address', 'zip_code', 'publish_date'])\n",
    "df.head()"
   ]
  },
  {
   "cell_type": "code",
   "execution_count": 8,
   "metadata": {},
   "outputs": [
    {
     "data": {
      "text/plain": [
       "code           object\n",
       "npi_number     object\n",
       "payer          object\n",
       "price         float64\n",
       "city           object\n",
       "state          object\n",
       "dtype: object"
      ]
     },
     "execution_count": 8,
     "metadata": {},
     "output_type": "execute_result"
    }
   ],
   "source": [
    "df.dtypes"
   ]
  },
  {
   "cell_type": "markdown",
   "metadata": {},
   "source": [
    "### Cleaning NPIs"
   ]
  },
  {
   "cell_type": "code",
   "execution_count": 9,
   "metadata": {},
   "outputs": [
    {
     "name": "stdout",
     "output_type": "stream",
     "text": [
      "['1699726406-a', '1699726406-b', '1457351389-C']\n"
     ]
    }
   ],
   "source": [
    "unqNPIs = df.npi_number.unique() #getting unique npis\n",
    "toFix = [] #list for storing npis that need to be cleaned\n",
    "string = 'check'\n",
    "\n",
    "for npi in unqNPIs:\n",
    "    if type(npi) == type(string):\n",
    "        if '-' in npi:\n",
    "            toFix.append(npi)\n",
    "\n",
    "print(toFix)"
   ]
  },
  {
   "cell_type": "code",
   "execution_count": 10,
   "metadata": {},
   "outputs": [],
   "source": [
    "for ogNPI in toFix: #for each messy npi\n",
    "  dashInd = ogNPI.index('-')\n",
    "  cleanNPI = ogNPI[0:dashInd] #get the substring from the front to before the dash\n",
    "\n",
    "  toChange = df.index[df['npi_number']==ogNPI].tolist() #get index of rows where npi matches original\n",
    "  for j in toChange:\n",
    "    df.iat[j,1] = cleanNPI #set each value to cleaned npi"
   ]
  },
  {
   "cell_type": "code",
   "execution_count": 11,
   "metadata": {},
   "outputs": [
    {
     "data": {
      "text/html": [
       "<div>\n",
       "<style scoped>\n",
       "    .dataframe tbody tr th:only-of-type {\n",
       "        vertical-align: middle;\n",
       "    }\n",
       "\n",
       "    .dataframe tbody tr th {\n",
       "        vertical-align: top;\n",
       "    }\n",
       "\n",
       "    .dataframe thead th {\n",
       "        text-align: right;\n",
       "    }\n",
       "</style>\n",
       "<table border=\"1\" class=\"dataframe\">\n",
       "  <thead>\n",
       "    <tr style=\"text-align: right;\">\n",
       "      <th></th>\n",
       "      <th>code</th>\n",
       "      <th>npi_number</th>\n",
       "      <th>payer</th>\n",
       "      <th>price</th>\n",
       "      <th>city</th>\n",
       "      <th>state</th>\n",
       "    </tr>\n",
       "  </thead>\n",
       "  <tbody>\n",
       "    <tr>\n",
       "      <th>0</th>\n",
       "      <td>842</td>\n",
       "      <td>1700979465</td>\n",
       "      <td>AETNA</td>\n",
       "      <td>14.94</td>\n",
       "      <td>Pensacola</td>\n",
       "      <td>FL</td>\n",
       "    </tr>\n",
       "    <tr>\n",
       "      <th>1</th>\n",
       "      <td>842</td>\n",
       "      <td>1700979465</td>\n",
       "      <td>BC FL</td>\n",
       "      <td>15.69</td>\n",
       "      <td>Pensacola</td>\n",
       "      <td>FL</td>\n",
       "    </tr>\n",
       "    <tr>\n",
       "      <th>2</th>\n",
       "      <td>842</td>\n",
       "      <td>1700979465</td>\n",
       "      <td>CHA HEALTH PLAN</td>\n",
       "      <td>14.94</td>\n",
       "      <td>Pensacola</td>\n",
       "      <td>FL</td>\n",
       "    </tr>\n",
       "    <tr>\n",
       "      <th>3</th>\n",
       "      <td>842</td>\n",
       "      <td>1700979465</td>\n",
       "      <td>FL COMMUNITY CARE LTC</td>\n",
       "      <td>15.99</td>\n",
       "      <td>Pensacola</td>\n",
       "      <td>FL</td>\n",
       "    </tr>\n",
       "    <tr>\n",
       "      <th>4</th>\n",
       "      <td>842</td>\n",
       "      <td>1700979465</td>\n",
       "      <td>LIGHTHOUSE MCAID PSN</td>\n",
       "      <td>15.99</td>\n",
       "      <td>Pensacola</td>\n",
       "      <td>FL</td>\n",
       "    </tr>\n",
       "  </tbody>\n",
       "</table>\n",
       "</div>"
      ],
      "text/plain": [
       "  code  npi_number                  payer  price       city state\n",
       "0  842  1700979465                  AETNA  14.94  Pensacola    FL\n",
       "1  842  1700979465                  BC FL  15.69  Pensacola    FL\n",
       "2  842  1700979465        CHA HEALTH PLAN  14.94  Pensacola    FL\n",
       "3  842  1700979465  FL COMMUNITY CARE LTC  15.99  Pensacola    FL\n",
       "4  842  1700979465   LIGHTHOUSE MCAID PSN  15.99  Pensacola    FL"
      ]
     },
     "execution_count": 11,
     "metadata": {},
     "output_type": "execute_result"
    }
   ],
   "source": [
    "df['npi_number'] = df['npi_number'].astype(int) #changing from string to int\n",
    "df.head()"
   ]
  },
  {
   "cell_type": "markdown",
   "metadata": {},
   "source": [
    "### Cleaning States"
   ]
  },
  {
   "cell_type": "code",
   "execution_count": 12,
   "metadata": {},
   "outputs": [],
   "source": [
    "unqStates = df.state.unique()\n",
    "#print(unqStates) #73, L states\n",
    "\n",
    "# Deleting rows BREAKS df.index -- do not drop rows until the end\n",
    "\n",
    "state73 = df.index[df['state']=='73'].tolist()\n",
    "for k in state73:\n",
    "    df.iat[k,5] = 'NV' # all 73 are from Northeastern Nevada Regional Hospital in Elko, NV\n",
    "\n",
    "LState = df.index[df['state']=='L '].tolist() #fixing Alabama from 'L ' to 'AL'\n",
    "for m in LState:\n",
    "  df.iat[m,5] = 'AL'"
   ]
  },
  {
   "cell_type": "markdown",
   "metadata": {},
   "source": [
    "### Cleaning Cities"
   ]
  },
  {
   "cell_type": "code",
   "execution_count": 13,
   "metadata": {},
   "outputs": [
    {
     "data": {
      "text/html": [
       "<div>\n",
       "<style scoped>\n",
       "    .dataframe tbody tr th:only-of-type {\n",
       "        vertical-align: middle;\n",
       "    }\n",
       "\n",
       "    .dataframe tbody tr th {\n",
       "        vertical-align: top;\n",
       "    }\n",
       "\n",
       "    .dataframe thead th {\n",
       "        text-align: right;\n",
       "    }\n",
       "</style>\n",
       "<table border=\"1\" class=\"dataframe\">\n",
       "  <thead>\n",
       "    <tr style=\"text-align: right;\">\n",
       "      <th></th>\n",
       "      <th>code</th>\n",
       "      <th>npi_number</th>\n",
       "      <th>payer</th>\n",
       "      <th>price</th>\n",
       "      <th>city</th>\n",
       "      <th>state</th>\n",
       "    </tr>\n",
       "  </thead>\n",
       "  <tbody>\n",
       "    <tr>\n",
       "      <th>0</th>\n",
       "      <td>842</td>\n",
       "      <td>1700979465</td>\n",
       "      <td>AETNA</td>\n",
       "      <td>14.94</td>\n",
       "      <td>pensacola</td>\n",
       "      <td>FL</td>\n",
       "    </tr>\n",
       "    <tr>\n",
       "      <th>1</th>\n",
       "      <td>842</td>\n",
       "      <td>1700979465</td>\n",
       "      <td>BC FL</td>\n",
       "      <td>15.69</td>\n",
       "      <td>pensacola</td>\n",
       "      <td>FL</td>\n",
       "    </tr>\n",
       "    <tr>\n",
       "      <th>2</th>\n",
       "      <td>842</td>\n",
       "      <td>1700979465</td>\n",
       "      <td>CHA HEALTH PLAN</td>\n",
       "      <td>14.94</td>\n",
       "      <td>pensacola</td>\n",
       "      <td>FL</td>\n",
       "    </tr>\n",
       "    <tr>\n",
       "      <th>3</th>\n",
       "      <td>842</td>\n",
       "      <td>1700979465</td>\n",
       "      <td>FL COMMUNITY CARE LTC</td>\n",
       "      <td>15.99</td>\n",
       "      <td>pensacola</td>\n",
       "      <td>FL</td>\n",
       "    </tr>\n",
       "    <tr>\n",
       "      <th>4</th>\n",
       "      <td>842</td>\n",
       "      <td>1700979465</td>\n",
       "      <td>LIGHTHOUSE MCAID PSN</td>\n",
       "      <td>15.99</td>\n",
       "      <td>pensacola</td>\n",
       "      <td>FL</td>\n",
       "    </tr>\n",
       "  </tbody>\n",
       "</table>\n",
       "</div>"
      ],
      "text/plain": [
       "  code  npi_number                  payer  price       city state\n",
       "0  842  1700979465                  AETNA  14.94  pensacola    FL\n",
       "1  842  1700979465                  BC FL  15.69  pensacola    FL\n",
       "2  842  1700979465        CHA HEALTH PLAN  14.94  pensacola    FL\n",
       "3  842  1700979465  FL COMMUNITY CARE LTC  15.99  pensacola    FL\n",
       "4  842  1700979465   LIGHTHOUSE MCAID PSN  15.99  pensacola    FL"
      ]
     },
     "execution_count": 13,
     "metadata": {},
     "output_type": "execute_result"
    }
   ],
   "source": [
    "unqCities = df.city.unique()\n",
    "#print(unqCities)\n",
    "\n",
    "df['city'] = df['city'].str.lower()\n",
    "\n",
    "for city in unqCities: #some cities have blank space in index 0\n",
    "    if type(city) == type(string): #since cannot drop null rows yet\n",
    "        if(city[0] == ' '):\n",
    "            changeCity = df.index[df['city']==city].tolist()\n",
    "            for c in changeCity:\n",
    "                df.iat[c,4] = city[1:] #remove blank space\n",
    "\n",
    "df.head()"
   ]
  },
  {
   "cell_type": "markdown",
   "metadata": {},
   "source": [
    "### Cleaning Codes"
   ]
  },
  {
   "cell_type": "code",
   "execution_count": 14,
   "metadata": {},
   "outputs": [],
   "source": [
    "unqCodes = df.code.unique()\n",
    "#print(unqCodes) #have both dashes and commas\n",
    "#some have commas before dashes > '84260,90-01'\n",
    "\n",
    "for p in unqCodes:\n",
    "    if ',' in p:\n",
    "        commaIndex = p.index(',')\n",
    "        cleanCode = p[0:commaIndex]\n",
    "        toClean = df.index[df['code']==p].tolist() #get index of messy code (p)\n",
    "                \n",
    "        for q in toClean:\n",
    "            df.iat[q,0] = cleanCode #set each value to cleaned (base) code\n",
    "\n",
    "    elif '-' in p:\n",
    "        dashIndex = p.index('-')\n",
    "        cleanCode = p[0:dashIndex]\n",
    "        toClean = df.index[df['code']==p].tolist()\n",
    "\n",
    "        for r in toClean:\n",
    "            df.iat[r,0] = cleanCode\n",
    "\n",
    "#unqCodes = df.code.unique() #checking if codes are cleaned\n",
    "#print(unqCodes)\n"
   ]
  },
  {
   "cell_type": "code",
   "execution_count": 15,
   "metadata": {},
   "outputs": [
    {
     "data": {
      "text/plain": [
       "code            int64\n",
       "npi_number      int64\n",
       "payer          object\n",
       "price         float64\n",
       "city           object\n",
       "state          object\n",
       "dtype: object"
      ]
     },
     "execution_count": 15,
     "metadata": {},
     "output_type": "execute_result"
    }
   ],
   "source": [
    "df['code'] = df['code'].astype(int) #changing from string to int\n",
    "df.dtypes"
   ]
  },
  {
   "cell_type": "markdown",
   "metadata": {},
   "source": [
    "### Cleaning Prices"
   ]
  },
  {
   "cell_type": "code",
   "execution_count": 30,
   "metadata": {},
   "outputs": [],
   "source": [
    "badInd = [] #store indicies of bad prices (include code in price)\n",
    "\n",
    "for row in range(len(df)): #for each row\n",
    "    codeCheck = str(df.iloc[row,0]) #get code as string\n",
    "    priceCheck = str(df.iloc[row,3]) #get price as string\n",
    "    if codeCheck in priceCheck:\n",
    "        badInd.append(row)\n",
    "\n",
    "#print(len(badInd)) #144 rows"
   ]
  },
  {
   "cell_type": "code",
   "execution_count": 32,
   "metadata": {},
   "outputs": [],
   "source": [
    "df = df.drop(index=badInd) #dropping bad rows"
   ]
  },
  {
   "cell_type": "code",
   "execution_count": 37,
   "metadata": {},
   "outputs": [
    {
     "name": "stdout",
     "output_type": "stream",
     "text": [
      "30090454.0\n"
     ]
    }
   ],
   "source": [
    "unqPrices = df.price.unique()\n",
    "print(max(unqPrices)) #highest price doesn't match any codes\n",
    "#print(unqPrices)"
   ]
  },
  {
   "cell_type": "code",
   "execution_count": 38,
   "metadata": {},
   "outputs": [
    {
     "data": {
      "text/plain": [
       "code            int64\n",
       "npi_number      int64\n",
       "payer          object\n",
       "price         float64\n",
       "city           object\n",
       "state          object\n",
       "dtype: object"
      ]
     },
     "execution_count": 38,
     "metadata": {},
     "output_type": "execute_result"
    }
   ],
   "source": [
    "df.dtypes"
   ]
  },
  {
   "cell_type": "markdown",
   "metadata": {},
   "source": [
    "### Dropping Rows with Null Entries (must do last)"
   ]
  },
  {
   "cell_type": "code",
   "execution_count": 39,
   "metadata": {},
   "outputs": [],
   "source": [
    "# Deleting rows BREAKS df.index -- do not drop rows until the end\n",
    "\n",
    "nullPrices = df[df['price'].isnull()].index.tolist()\n",
    "df = df.drop(index=nullPrices) #dropping rows with null prices\n",
    "\n",
    "nullStates = df[df['state'].isnull()].index.tolist()\n",
    "df = df.drop(index=nullStates) #dropping rows with null states\n",
    "\n",
    "#no null city, payer, npi_numberm or code"
   ]
  },
  {
   "cell_type": "markdown",
   "metadata": {},
   "source": [
    "### Ordinal Encoding"
   ]
  },
  {
   "cell_type": "code",
   "execution_count": 40,
   "metadata": {},
   "outputs": [
    {
     "data": {
      "text/html": [
       "<div>\n",
       "<style scoped>\n",
       "    .dataframe tbody tr th:only-of-type {\n",
       "        vertical-align: middle;\n",
       "    }\n",
       "\n",
       "    .dataframe tbody tr th {\n",
       "        vertical-align: top;\n",
       "    }\n",
       "\n",
       "    .dataframe thead th {\n",
       "        text-align: right;\n",
       "    }\n",
       "</style>\n",
       "<table border=\"1\" class=\"dataframe\">\n",
       "  <thead>\n",
       "    <tr style=\"text-align: right;\">\n",
       "      <th></th>\n",
       "      <th>code</th>\n",
       "      <th>npi_number</th>\n",
       "      <th>payer</th>\n",
       "      <th>price</th>\n",
       "      <th>city</th>\n",
       "      <th>state</th>\n",
       "    </tr>\n",
       "  </thead>\n",
       "  <tbody>\n",
       "    <tr>\n",
       "      <th>0</th>\n",
       "      <td>842</td>\n",
       "      <td>1700979465</td>\n",
       "      <td>AETNA</td>\n",
       "      <td>14.94</td>\n",
       "      <td>pensacola</td>\n",
       "      <td>FL</td>\n",
       "    </tr>\n",
       "    <tr>\n",
       "      <th>1</th>\n",
       "      <td>842</td>\n",
       "      <td>1700979465</td>\n",
       "      <td>BC FL</td>\n",
       "      <td>15.69</td>\n",
       "      <td>pensacola</td>\n",
       "      <td>FL</td>\n",
       "    </tr>\n",
       "    <tr>\n",
       "      <th>2</th>\n",
       "      <td>842</td>\n",
       "      <td>1700979465</td>\n",
       "      <td>CHA HEALTH PLAN</td>\n",
       "      <td>14.94</td>\n",
       "      <td>pensacola</td>\n",
       "      <td>FL</td>\n",
       "    </tr>\n",
       "    <tr>\n",
       "      <th>3</th>\n",
       "      <td>842</td>\n",
       "      <td>1700979465</td>\n",
       "      <td>FL COMMUNITY CARE LTC</td>\n",
       "      <td>15.99</td>\n",
       "      <td>pensacola</td>\n",
       "      <td>FL</td>\n",
       "    </tr>\n",
       "    <tr>\n",
       "      <th>4</th>\n",
       "      <td>842</td>\n",
       "      <td>1700979465</td>\n",
       "      <td>LIGHTHOUSE MCAID PSN</td>\n",
       "      <td>15.99</td>\n",
       "      <td>pensacola</td>\n",
       "      <td>FL</td>\n",
       "    </tr>\n",
       "  </tbody>\n",
       "</table>\n",
       "</div>"
      ],
      "text/plain": [
       "   code  npi_number                  payer  price       city state\n",
       "0   842  1700979465                  AETNA  14.94  pensacola    FL\n",
       "1   842  1700979465                  BC FL  15.69  pensacola    FL\n",
       "2   842  1700979465        CHA HEALTH PLAN  14.94  pensacola    FL\n",
       "3   842  1700979465  FL COMMUNITY CARE LTC  15.99  pensacola    FL\n",
       "4   842  1700979465   LIGHTHOUSE MCAID PSN  15.99  pensacola    FL"
      ]
     },
     "execution_count": 40,
     "metadata": {},
     "output_type": "execute_result"
    }
   ],
   "source": [
    "df.head()"
   ]
  },
  {
   "cell_type": "code",
   "execution_count": 41,
   "metadata": {},
   "outputs": [
    {
     "data": {
      "text/html": [
       "<div>\n",
       "<style scoped>\n",
       "    .dataframe tbody tr th:only-of-type {\n",
       "        vertical-align: middle;\n",
       "    }\n",
       "\n",
       "    .dataframe tbody tr th {\n",
       "        vertical-align: top;\n",
       "    }\n",
       "\n",
       "    .dataframe thead th {\n",
       "        text-align: right;\n",
       "    }\n",
       "</style>\n",
       "<table border=\"1\" class=\"dataframe\">\n",
       "  <thead>\n",
       "    <tr style=\"text-align: right;\">\n",
       "      <th></th>\n",
       "      <th>code</th>\n",
       "      <th>npi_number</th>\n",
       "      <th>payer</th>\n",
       "      <th>price</th>\n",
       "      <th>city</th>\n",
       "      <th>state</th>\n",
       "    </tr>\n",
       "  </thead>\n",
       "  <tbody>\n",
       "    <tr>\n",
       "      <th>0</th>\n",
       "      <td>842</td>\n",
       "      <td>1700979465</td>\n",
       "      <td>107</td>\n",
       "      <td>14.94</td>\n",
       "      <td>432</td>\n",
       "      <td>8</td>\n",
       "    </tr>\n",
       "    <tr>\n",
       "      <th>1</th>\n",
       "      <td>842</td>\n",
       "      <td>1700979465</td>\n",
       "      <td>541</td>\n",
       "      <td>15.69</td>\n",
       "      <td>432</td>\n",
       "      <td>8</td>\n",
       "    </tr>\n",
       "    <tr>\n",
       "      <th>2</th>\n",
       "      <td>842</td>\n",
       "      <td>1700979465</td>\n",
       "      <td>1057</td>\n",
       "      <td>14.94</td>\n",
       "      <td>432</td>\n",
       "      <td>8</td>\n",
       "    </tr>\n",
       "    <tr>\n",
       "      <th>3</th>\n",
       "      <td>842</td>\n",
       "      <td>1700979465</td>\n",
       "      <td>1576</td>\n",
       "      <td>15.99</td>\n",
       "      <td>432</td>\n",
       "      <td>8</td>\n",
       "    </tr>\n",
       "    <tr>\n",
       "      <th>4</th>\n",
       "      <td>842</td>\n",
       "      <td>1700979465</td>\n",
       "      <td>2308</td>\n",
       "      <td>15.99</td>\n",
       "      <td>432</td>\n",
       "      <td>8</td>\n",
       "    </tr>\n",
       "  </tbody>\n",
       "</table>\n",
       "</div>"
      ],
      "text/plain": [
       "   code  npi_number  payer  price  city  state\n",
       "0   842  1700979465    107  14.94   432      8\n",
       "1   842  1700979465    541  15.69   432      8\n",
       "2   842  1700979465   1057  14.94   432      8\n",
       "3   842  1700979465   1576  15.99   432      8\n",
       "4   842  1700979465   2308  15.99   432      8"
      ]
     },
     "execution_count": 41,
     "metadata": {},
     "output_type": "execute_result"
    }
   ],
   "source": [
    "enc = OrdinalEncoder(dtype=int) #integer ordinal encoding, default is float\n",
    "enc.fit(df[['payer','city', 'state']])\n",
    "df[['payer','city', 'state']] = enc.transform(df[['payer','city', 'state']])\n",
    "df.head()"
   ]
  },
  {
   "cell_type": "code",
   "execution_count": 42,
   "metadata": {},
   "outputs": [
    {
     "data": {
      "text/html": [
       "<div>\n",
       "<style scoped>\n",
       "    .dataframe tbody tr th:only-of-type {\n",
       "        vertical-align: middle;\n",
       "    }\n",
       "\n",
       "    .dataframe tbody tr th {\n",
       "        vertical-align: top;\n",
       "    }\n",
       "\n",
       "    .dataframe thead th {\n",
       "        text-align: right;\n",
       "    }\n",
       "</style>\n",
       "<table border=\"1\" class=\"dataframe\">\n",
       "  <thead>\n",
       "    <tr style=\"text-align: right;\">\n",
       "      <th></th>\n",
       "      <th>code</th>\n",
       "      <th>npi_number</th>\n",
       "      <th>payer</th>\n",
       "      <th>city</th>\n",
       "      <th>state</th>\n",
       "      <th>price</th>\n",
       "    </tr>\n",
       "  </thead>\n",
       "  <tbody>\n",
       "    <tr>\n",
       "      <th>0</th>\n",
       "      <td>842</td>\n",
       "      <td>1700979465</td>\n",
       "      <td>107</td>\n",
       "      <td>432</td>\n",
       "      <td>8</td>\n",
       "      <td>14.94</td>\n",
       "    </tr>\n",
       "    <tr>\n",
       "      <th>1</th>\n",
       "      <td>842</td>\n",
       "      <td>1700979465</td>\n",
       "      <td>541</td>\n",
       "      <td>432</td>\n",
       "      <td>8</td>\n",
       "      <td>15.69</td>\n",
       "    </tr>\n",
       "    <tr>\n",
       "      <th>2</th>\n",
       "      <td>842</td>\n",
       "      <td>1700979465</td>\n",
       "      <td>1057</td>\n",
       "      <td>432</td>\n",
       "      <td>8</td>\n",
       "      <td>14.94</td>\n",
       "    </tr>\n",
       "    <tr>\n",
       "      <th>3</th>\n",
       "      <td>842</td>\n",
       "      <td>1700979465</td>\n",
       "      <td>1576</td>\n",
       "      <td>432</td>\n",
       "      <td>8</td>\n",
       "      <td>15.99</td>\n",
       "    </tr>\n",
       "    <tr>\n",
       "      <th>4</th>\n",
       "      <td>842</td>\n",
       "      <td>1700979465</td>\n",
       "      <td>2308</td>\n",
       "      <td>432</td>\n",
       "      <td>8</td>\n",
       "      <td>15.99</td>\n",
       "    </tr>\n",
       "  </tbody>\n",
       "</table>\n",
       "</div>"
      ],
      "text/plain": [
       "   code  npi_number  payer  city  state  price\n",
       "0   842  1700979465    107   432      8  14.94\n",
       "1   842  1700979465    541   432      8  15.69\n",
       "2   842  1700979465   1057   432      8  14.94\n",
       "3   842  1700979465   1576   432      8  15.99\n",
       "4   842  1700979465   2308   432      8  15.99"
      ]
     },
     "execution_count": 42,
     "metadata": {},
     "output_type": "execute_result"
    }
   ],
   "source": [
    "df = df[['code', 'npi_number', 'payer', 'city', 'state', 'price']] #reordering columns for easier split later\n",
    "df.head()"
   ]
  },
  {
   "cell_type": "markdown",
   "metadata": {},
   "source": [
    "### Standardization / Normalization\n",
    "Since the data values range greatly between features, standardizing makes it easier for the model to learn."
   ]
  },
  {
   "cell_type": "code",
   "execution_count": 45,
   "metadata": {},
   "outputs": [],
   "source": [
    "scaler = StandardScaler() # default centers mean to zero & scales to unit variance\n",
    "normNumpy = scaler.fit_transform(df) #returns as numpy array"
   ]
  },
  {
   "cell_type": "markdown",
   "metadata": {},
   "source": [
    "### Train / Test Split (80-20)"
   ]
  },
  {
   "cell_type": "code",
   "execution_count": 46,
   "metadata": {},
   "outputs": [
    {
     "data": {
      "text/html": [
       "<div>\n",
       "<style scoped>\n",
       "    .dataframe tbody tr th:only-of-type {\n",
       "        vertical-align: middle;\n",
       "    }\n",
       "\n",
       "    .dataframe tbody tr th {\n",
       "        vertical-align: top;\n",
       "    }\n",
       "\n",
       "    .dataframe thead th {\n",
       "        text-align: right;\n",
       "    }\n",
       "</style>\n",
       "<table border=\"1\" class=\"dataframe\">\n",
       "  <thead>\n",
       "    <tr style=\"text-align: right;\">\n",
       "      <th></th>\n",
       "      <th>code</th>\n",
       "      <th>npi_number</th>\n",
       "      <th>payer</th>\n",
       "      <th>city</th>\n",
       "      <th>state</th>\n",
       "      <th>price</th>\n",
       "    </tr>\n",
       "  </thead>\n",
       "  <tbody>\n",
       "    <tr>\n",
       "      <th>0</th>\n",
       "      <td>0.018663</td>\n",
       "      <td>0.356082</td>\n",
       "      <td>-0.366220</td>\n",
       "      <td>1.441843</td>\n",
       "      <td>-0.722960</td>\n",
       "      <td>-0.005363</td>\n",
       "    </tr>\n",
       "    <tr>\n",
       "      <th>1</th>\n",
       "      <td>0.040282</td>\n",
       "      <td>-1.871292</td>\n",
       "      <td>0.592939</td>\n",
       "      <td>-1.022553</td>\n",
       "      <td>1.073136</td>\n",
       "      <td>-0.006521</td>\n",
       "    </tr>\n",
       "    <tr>\n",
       "      <th>2</th>\n",
       "      <td>0.054229</td>\n",
       "      <td>-0.066981</td>\n",
       "      <td>-0.519027</td>\n",
       "      <td>-0.319244</td>\n",
       "      <td>1.318058</td>\n",
       "      <td>-0.006850</td>\n",
       "    </tr>\n",
       "    <tr>\n",
       "      <th>3</th>\n",
       "      <td>-0.007836</td>\n",
       "      <td>-1.871292</td>\n",
       "      <td>0.069477</td>\n",
       "      <td>-1.022553</td>\n",
       "      <td>1.073136</td>\n",
       "      <td>-0.006793</td>\n",
       "    </tr>\n",
       "    <tr>\n",
       "      <th>4</th>\n",
       "      <td>0.018663</td>\n",
       "      <td>-0.066981</td>\n",
       "      <td>-0.034746</td>\n",
       "      <td>-0.319244</td>\n",
       "      <td>1.318058</td>\n",
       "      <td>-0.006545</td>\n",
       "    </tr>\n",
       "  </tbody>\n",
       "</table>\n",
       "</div>"
      ],
      "text/plain": [
       "       code  npi_number     payer      city     state     price\n",
       "0  0.018663    0.356082 -0.366220  1.441843 -0.722960 -0.005363\n",
       "1  0.040282   -1.871292  0.592939 -1.022553  1.073136 -0.006521\n",
       "2  0.054229   -0.066981 -0.519027 -0.319244  1.318058 -0.006850\n",
       "3 -0.007836   -1.871292  0.069477 -1.022553  1.073136 -0.006793\n",
       "4  0.018663   -0.066981 -0.034746 -0.319244  1.318058 -0.006545"
      ]
     },
     "execution_count": 46,
     "metadata": {},
     "output_type": "execute_result"
    }
   ],
   "source": [
    "npTrain, npTest = train_test_split(normNumpy, test_size=0.2)\n",
    "\n",
    "#convert back to pandas\n",
    "pdTrain = pd.DataFrame(npTrain, columns=['code', 'npi_number', 'payer', 'city', 'state', 'price'])\n",
    "pdTest = pd.DataFrame(npTest, columns=['code', 'npi_number', 'payer', 'city', 'state', 'price'])\n",
    "pdTrain.head()"
   ]
  },
  {
   "cell_type": "code",
   "execution_count": 47,
   "metadata": {},
   "outputs": [
    {
     "data": {
      "text/html": [
       "<div>\n",
       "<style scoped>\n",
       "    .dataframe tbody tr th:only-of-type {\n",
       "        vertical-align: middle;\n",
       "    }\n",
       "\n",
       "    .dataframe tbody tr th {\n",
       "        vertical-align: top;\n",
       "    }\n",
       "\n",
       "    .dataframe thead th {\n",
       "        text-align: right;\n",
       "    }\n",
       "</style>\n",
       "<table border=\"1\" class=\"dataframe\">\n",
       "  <thead>\n",
       "    <tr style=\"text-align: right;\">\n",
       "      <th></th>\n",
       "      <th>price</th>\n",
       "    </tr>\n",
       "  </thead>\n",
       "  <tbody>\n",
       "    <tr>\n",
       "      <th>0</th>\n",
       "      <td>-0.005363</td>\n",
       "    </tr>\n",
       "    <tr>\n",
       "      <th>1</th>\n",
       "      <td>-0.006521</td>\n",
       "    </tr>\n",
       "    <tr>\n",
       "      <th>2</th>\n",
       "      <td>-0.006850</td>\n",
       "    </tr>\n",
       "    <tr>\n",
       "      <th>3</th>\n",
       "      <td>-0.006793</td>\n",
       "    </tr>\n",
       "    <tr>\n",
       "      <th>4</th>\n",
       "      <td>-0.006545</td>\n",
       "    </tr>\n",
       "  </tbody>\n",
       "</table>\n",
       "</div>"
      ],
      "text/plain": [
       "      price\n",
       "0 -0.005363\n",
       "1 -0.006521\n",
       "2 -0.006850\n",
       "3 -0.006793\n",
       "4 -0.006545"
      ]
     },
     "execution_count": 47,
     "metadata": {},
     "output_type": "execute_result"
    }
   ],
   "source": [
    "yTrain = pdTrain[['price']].copy()\n",
    "yTest = pdTest[['price']].copy()\n",
    "yTrain.head()"
   ]
  },
  {
   "cell_type": "code",
   "execution_count": 48,
   "metadata": {},
   "outputs": [
    {
     "data": {
      "text/html": [
       "<div>\n",
       "<style scoped>\n",
       "    .dataframe tbody tr th:only-of-type {\n",
       "        vertical-align: middle;\n",
       "    }\n",
       "\n",
       "    .dataframe tbody tr th {\n",
       "        vertical-align: top;\n",
       "    }\n",
       "\n",
       "    .dataframe thead th {\n",
       "        text-align: right;\n",
       "    }\n",
       "</style>\n",
       "<table border=\"1\" class=\"dataframe\">\n",
       "  <thead>\n",
       "    <tr style=\"text-align: right;\">\n",
       "      <th></th>\n",
       "      <th>code</th>\n",
       "      <th>npi_number</th>\n",
       "      <th>payer</th>\n",
       "      <th>city</th>\n",
       "      <th>state</th>\n",
       "    </tr>\n",
       "  </thead>\n",
       "  <tbody>\n",
       "    <tr>\n",
       "      <th>0</th>\n",
       "      <td>0.018663</td>\n",
       "      <td>0.356082</td>\n",
       "      <td>-0.366220</td>\n",
       "      <td>1.441843</td>\n",
       "      <td>-0.722960</td>\n",
       "    </tr>\n",
       "    <tr>\n",
       "      <th>1</th>\n",
       "      <td>0.040282</td>\n",
       "      <td>-1.871292</td>\n",
       "      <td>0.592939</td>\n",
       "      <td>-1.022553</td>\n",
       "      <td>1.073136</td>\n",
       "    </tr>\n",
       "    <tr>\n",
       "      <th>2</th>\n",
       "      <td>0.054229</td>\n",
       "      <td>-0.066981</td>\n",
       "      <td>-0.519027</td>\n",
       "      <td>-0.319244</td>\n",
       "      <td>1.318058</td>\n",
       "    </tr>\n",
       "    <tr>\n",
       "      <th>3</th>\n",
       "      <td>-0.007836</td>\n",
       "      <td>-1.871292</td>\n",
       "      <td>0.069477</td>\n",
       "      <td>-1.022553</td>\n",
       "      <td>1.073136</td>\n",
       "    </tr>\n",
       "    <tr>\n",
       "      <th>4</th>\n",
       "      <td>0.018663</td>\n",
       "      <td>-0.066981</td>\n",
       "      <td>-0.034746</td>\n",
       "      <td>-0.319244</td>\n",
       "      <td>1.318058</td>\n",
       "    </tr>\n",
       "  </tbody>\n",
       "</table>\n",
       "</div>"
      ],
      "text/plain": [
       "       code  npi_number     payer      city     state\n",
       "0  0.018663    0.356082 -0.366220  1.441843 -0.722960\n",
       "1  0.040282   -1.871292  0.592939 -1.022553  1.073136\n",
       "2  0.054229   -0.066981 -0.519027 -0.319244  1.318058\n",
       "3 -0.007836   -1.871292  0.069477 -1.022553  1.073136\n",
       "4  0.018663   -0.066981 -0.034746 -0.319244  1.318058"
      ]
     },
     "execution_count": 48,
     "metadata": {},
     "output_type": "execute_result"
    }
   ],
   "source": [
    "xTrain = pdTrain.drop('price', axis=1)\n",
    "xTest = pdTest.drop('price', axis=1)\n",
    "xTrain.head()"
   ]
  },
  {
   "cell_type": "markdown",
   "metadata": {},
   "source": [
    "### Downloading CSV"
   ]
  },
  {
   "cell_type": "code",
   "execution_count": 49,
   "metadata": {},
   "outputs": [],
   "source": [
    "xTrain.to_csv(\"xTrain.csv\", index = False)\n",
    "yTrain.to_csv(\"yTrain.csv\", index = False)\n",
    "\n",
    "xTest.to_csv(\"xTest.csv\", index = False)\n",
    "yTest.to_csv(\"yTest.csv\", index = False)"
   ]
  }
 ],
 "metadata": {
  "kernelspec": {
   "display_name": "Python 3.11.5 ('sklearn-env')",
   "language": "python",
   "name": "python3"
  },
  "language_info": {
   "codemirror_mode": {
    "name": "ipython",
    "version": 3
   },
   "file_extension": ".py",
   "mimetype": "text/x-python",
   "name": "python",
   "nbconvert_exporter": "python",
   "pygments_lexer": "ipython3",
   "version": "3.11.5"
  },
  "orig_nbformat": 4,
  "vscode": {
   "interpreter": {
    "hash": "611352f5978b1235c108ac50e4c651ac98f23cc2e9a9cdf27562626bd378e331"
   }
  }
 },
 "nbformat": 4,
 "nbformat_minor": 2
}
