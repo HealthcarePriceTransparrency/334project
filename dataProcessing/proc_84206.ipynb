{
  "cells": [
    {
      "cell_type": "markdown",
      "metadata": {},
      "source": [
        "This notebook processes the data for the code \"84206\" (84206.csv) and splits it into testing and training data stored at `/data/84206/*.csv`"
      ]
    },
    {
      "cell_type": "code",
      "execution_count": 1,
      "metadata": {
        "id": "zHu8WoT5Z4KK"
      },
      "outputs": [],
      "source": [
        "import numpy as np\n",
        "import pandas as pd\n",
        "from sklearn import preprocessing\n",
        "from sklearn.model_selection import train_test_split\n",
        "from sklearn.preprocessing import OrdinalEncoder\n",
        "from sklearn.preprocessing import StandardScaler"
      ]
    },
    {
      "cell_type": "code",
      "execution_count": 2,
      "metadata": {
        "id": "i4YagV76ns_3"
      },
      "outputs": [
        {
          "name": "stdout",
          "output_type": "stream",
          "text": [
            "9496\n"
          ]
        }
      ],
      "source": [
        "# need to upload csv to jupyter files section first\n",
        "df = pd.read_csv(\"../data/84206.csv\") #importing data\n",
        "\n",
        "print(len(df)) #9496 rows at start"
      ]
    },
    {
      "cell_type": "markdown",
      "metadata": {
        "id": "cizahbPWzGgI"
      },
      "source": [
        "#### **Feature Trimming**\n",
        "---"
      ]
    },
    {
      "cell_type": "code",
      "execution_count": 3,
      "metadata": {
        "colab": {
          "base_uri": "https://localhost:8080/",
          "height": 206
        },
        "id": "HI1pxtLlapY8",
        "outputId": "7f0e5863-ff75-4b3f-9601-2535edbfcdc9"
      },
      "outputs": [
        {
          "data": {
            "text/html": [
              "<div>\n",
              "<style scoped>\n",
              "    .dataframe tbody tr th:only-of-type {\n",
              "        vertical-align: middle;\n",
              "    }\n",
              "\n",
              "    .dataframe tbody tr th {\n",
              "        vertical-align: top;\n",
              "    }\n",
              "\n",
              "    .dataframe thead th {\n",
              "        text-align: right;\n",
              "    }\n",
              "</style>\n",
              "<table border=\"1\" class=\"dataframe\">\n",
              "  <thead>\n",
              "    <tr style=\"text-align: right;\">\n",
              "      <th></th>\n",
              "      <th>code</th>\n",
              "      <th>npi_number</th>\n",
              "      <th>payer</th>\n",
              "      <th>price</th>\n",
              "      <th>city</th>\n",
              "      <th>state</th>\n",
              "    </tr>\n",
              "  </thead>\n",
              "  <tbody>\n",
              "    <tr>\n",
              "      <th>0</th>\n",
              "      <td>84206</td>\n",
              "      <td>1003281452</td>\n",
              "      <td>Aetna</td>\n",
              "      <td>173.0</td>\n",
              "      <td>Henderson</td>\n",
              "      <td>NV</td>\n",
              "    </tr>\n",
              "    <tr>\n",
              "      <th>1</th>\n",
              "      <td>84206</td>\n",
              "      <td>1003281452</td>\n",
              "      <td>Amerigroup</td>\n",
              "      <td>24.0</td>\n",
              "      <td>Henderson</td>\n",
              "      <td>NV</td>\n",
              "    </tr>\n",
              "    <tr>\n",
              "      <th>2</th>\n",
              "      <td>84206</td>\n",
              "      <td>1003281452</td>\n",
              "      <td>Blue Cross</td>\n",
              "      <td>158.0</td>\n",
              "      <td>Henderson</td>\n",
              "      <td>NV</td>\n",
              "    </tr>\n",
              "    <tr>\n",
              "      <th>3</th>\n",
              "      <td>84206</td>\n",
              "      <td>1003281452</td>\n",
              "      <td>CASH</td>\n",
              "      <td>908.0</td>\n",
              "      <td>Henderson</td>\n",
              "      <td>NV</td>\n",
              "    </tr>\n",
              "    <tr>\n",
              "      <th>4</th>\n",
              "      <td>84206</td>\n",
              "      <td>1003281452</td>\n",
              "      <td>Cigna</td>\n",
              "      <td>391.0</td>\n",
              "      <td>Henderson</td>\n",
              "      <td>NV</td>\n",
              "    </tr>\n",
              "  </tbody>\n",
              "</table>\n",
              "</div>"
            ],
            "text/plain": [
              "    code  npi_number       payer  price       city state\n",
              "0  84206  1003281452       Aetna  173.0  Henderson    NV\n",
              "1  84206  1003281452  Amerigroup   24.0  Henderson    NV\n",
              "2  84206  1003281452  Blue Cross  158.0  Henderson    NV\n",
              "3  84206  1003281452        CASH  908.0  Henderson    NV\n",
              "4  84206  1003281452       Cigna  391.0  Henderson    NV"
            ]
          },
          "execution_count": 3,
          "metadata": {},
          "output_type": "execute_result"
        }
      ],
      "source": [
        "#Feature Trimming\n",
        "df = df.drop(columns=['name', 'url', 'street_address', 'zip_code', 'publish_date'])\n",
        "#left in city, since without unique codes, there's only 4 features\n",
        "\n",
        "#df = df.drop('code', axis=1) #dropping code for now, since it's redundant with just 84206\n",
        "\n",
        "df.head()"
      ]
    },
    {
      "cell_type": "markdown",
      "metadata": {
        "id": "zUwLF7u8y4eO"
      },
      "source": [
        "#### **Feature Cleaning** *~ npi_number*\n",
        "---"
      ]
    },
    {
      "cell_type": "code",
      "execution_count": 4,
      "metadata": {
        "id": "6YE7BNGSePs2"
      },
      "outputs": [],
      "source": [
        "# Feature Cleaning ~ npi_number\n",
        "\n",
        "unqNPIs = df.npi_number.unique() #gathering unique npi's\n",
        "toFix = [] #list for storing npi's that need to be cleaned\n",
        "\n",
        "for npi in unqNPIs: #gathering npi's needing cleaning\n",
        "  if '-' in npi:\n",
        "    toFix.append(npi)\n",
        "\n",
        "for ogNPI in toFix: #for each messy npi\n",
        "  dashInd = ogNPI.index('-')\n",
        "  cleanNPI = ogNPI[0:dashInd] #get the substring from the front to before the dash\n",
        "\n",
        "  toChange = df.index[df['npi_number']==ogNPI].tolist() #get index of rows where npi matches original\n",
        "  for j in toChange:\n",
        "    df.iat[j,1] = cleanNPI #set each value to cleaned npi\n"
      ]
    },
    {
      "cell_type": "code",
      "execution_count": 5,
      "metadata": {
        "colab": {
          "base_uri": "https://localhost:8080/",
          "height": 206
        },
        "id": "haPYDStfBg5t",
        "outputId": "63c2dc21-75de-4137-8113-c48e6eec7fd2"
      },
      "outputs": [
        {
          "data": {
            "text/html": [
              "<div>\n",
              "<style scoped>\n",
              "    .dataframe tbody tr th:only-of-type {\n",
              "        vertical-align: middle;\n",
              "    }\n",
              "\n",
              "    .dataframe tbody tr th {\n",
              "        vertical-align: top;\n",
              "    }\n",
              "\n",
              "    .dataframe thead th {\n",
              "        text-align: right;\n",
              "    }\n",
              "</style>\n",
              "<table border=\"1\" class=\"dataframe\">\n",
              "  <thead>\n",
              "    <tr style=\"text-align: right;\">\n",
              "      <th></th>\n",
              "      <th>code</th>\n",
              "      <th>npi_number</th>\n",
              "      <th>payer</th>\n",
              "      <th>price</th>\n",
              "      <th>city</th>\n",
              "      <th>state</th>\n",
              "    </tr>\n",
              "  </thead>\n",
              "  <tbody>\n",
              "    <tr>\n",
              "      <th>0</th>\n",
              "      <td>84206</td>\n",
              "      <td>1003281452</td>\n",
              "      <td>Aetna</td>\n",
              "      <td>173.0</td>\n",
              "      <td>Henderson</td>\n",
              "      <td>NV</td>\n",
              "    </tr>\n",
              "    <tr>\n",
              "      <th>1</th>\n",
              "      <td>84206</td>\n",
              "      <td>1003281452</td>\n",
              "      <td>Amerigroup</td>\n",
              "      <td>24.0</td>\n",
              "      <td>Henderson</td>\n",
              "      <td>NV</td>\n",
              "    </tr>\n",
              "    <tr>\n",
              "      <th>2</th>\n",
              "      <td>84206</td>\n",
              "      <td>1003281452</td>\n",
              "      <td>Blue Cross</td>\n",
              "      <td>158.0</td>\n",
              "      <td>Henderson</td>\n",
              "      <td>NV</td>\n",
              "    </tr>\n",
              "    <tr>\n",
              "      <th>3</th>\n",
              "      <td>84206</td>\n",
              "      <td>1003281452</td>\n",
              "      <td>CASH</td>\n",
              "      <td>908.0</td>\n",
              "      <td>Henderson</td>\n",
              "      <td>NV</td>\n",
              "    </tr>\n",
              "    <tr>\n",
              "      <th>4</th>\n",
              "      <td>84206</td>\n",
              "      <td>1003281452</td>\n",
              "      <td>Cigna</td>\n",
              "      <td>391.0</td>\n",
              "      <td>Henderson</td>\n",
              "      <td>NV</td>\n",
              "    </tr>\n",
              "  </tbody>\n",
              "</table>\n",
              "</div>"
            ],
            "text/plain": [
              "    code  npi_number       payer  price       city state\n",
              "0  84206  1003281452       Aetna  173.0  Henderson    NV\n",
              "1  84206  1003281452  Amerigroup   24.0  Henderson    NV\n",
              "2  84206  1003281452  Blue Cross  158.0  Henderson    NV\n",
              "3  84206  1003281452        CASH  908.0  Henderson    NV\n",
              "4  84206  1003281452       Cigna  391.0  Henderson    NV"
            ]
          },
          "execution_count": 5,
          "metadata": {},
          "output_type": "execute_result"
        }
      ],
      "source": [
        "df['npi_number'] = df['npi_number'].astype(int) #changing from string to int\n",
        "df.head()"
      ]
    },
    {
      "cell_type": "markdown",
      "metadata": {
        "id": "fY1GsgQzb9uJ"
      },
      "source": [
        "#### **Feature Cleaning** ~ price"
      ]
    },
    {
      "cell_type": "code",
      "execution_count": 6,
      "metadata": {
        "colab": {
          "base_uri": "https://localhost:8080/",
          "height": 206
        },
        "id": "zpQN7TLfpmK2",
        "outputId": "da43fd43-3792-446a-f1b0-81a6733cca6f"
      },
      "outputs": [
        {
          "data": {
            "text/html": [
              "<div>\n",
              "<style scoped>\n",
              "    .dataframe tbody tr th:only-of-type {\n",
              "        vertical-align: middle;\n",
              "    }\n",
              "\n",
              "    .dataframe tbody tr th {\n",
              "        vertical-align: top;\n",
              "    }\n",
              "\n",
              "    .dataframe thead th {\n",
              "        text-align: right;\n",
              "    }\n",
              "</style>\n",
              "<table border=\"1\" class=\"dataframe\">\n",
              "  <thead>\n",
              "    <tr style=\"text-align: right;\">\n",
              "      <th></th>\n",
              "      <th>npi_number</th>\n",
              "      <th>payer</th>\n",
              "      <th>price</th>\n",
              "      <th>city</th>\n",
              "      <th>state</th>\n",
              "    </tr>\n",
              "  </thead>\n",
              "  <tbody>\n",
              "    <tr>\n",
              "      <th>0</th>\n",
              "      <td>1003281452</td>\n",
              "      <td>Aetna</td>\n",
              "      <td>173.0</td>\n",
              "      <td>Henderson</td>\n",
              "      <td>NV</td>\n",
              "    </tr>\n",
              "    <tr>\n",
              "      <th>1</th>\n",
              "      <td>1003281452</td>\n",
              "      <td>Amerigroup</td>\n",
              "      <td>24.0</td>\n",
              "      <td>Henderson</td>\n",
              "      <td>NV</td>\n",
              "    </tr>\n",
              "    <tr>\n",
              "      <th>2</th>\n",
              "      <td>1003281452</td>\n",
              "      <td>Blue Cross</td>\n",
              "      <td>158.0</td>\n",
              "      <td>Henderson</td>\n",
              "      <td>NV</td>\n",
              "    </tr>\n",
              "    <tr>\n",
              "      <th>3</th>\n",
              "      <td>1003281452</td>\n",
              "      <td>CASH</td>\n",
              "      <td>908.0</td>\n",
              "      <td>Henderson</td>\n",
              "      <td>NV</td>\n",
              "    </tr>\n",
              "    <tr>\n",
              "      <th>4</th>\n",
              "      <td>1003281452</td>\n",
              "      <td>Cigna</td>\n",
              "      <td>391.0</td>\n",
              "      <td>Henderson</td>\n",
              "      <td>NV</td>\n",
              "    </tr>\n",
              "  </tbody>\n",
              "</table>\n",
              "</div>"
            ],
            "text/plain": [
              "   npi_number       payer  price       city state\n",
              "0  1003281452       Aetna  173.0  Henderson    NV\n",
              "1  1003281452  Amerigroup   24.0  Henderson    NV\n",
              "2  1003281452  Blue Cross  158.0  Henderson    NV\n",
              "3  1003281452        CASH  908.0  Henderson    NV\n",
              "4  1003281452       Cigna  391.0  Henderson    NV"
            ]
          },
          "execution_count": 6,
          "metadata": {},
          "output_type": "execute_result"
        }
      ],
      "source": [
        "codeCheck = str(df.iloc[0][0]) #pulling code as string\n",
        "unqPrice = df.price.unique() #gathering unique prices\n",
        "priceWithCode = []\n",
        "\n",
        "for p in unqPrice:\n",
        "  if codeCheck in str(p): #if code is substring of price\n",
        "    badPrices = df.index[df['price']==p].tolist() #get index of rows with price\n",
        "    df = df.drop(index=badPrices) #drop rows with bad prices\n",
        "\n",
        "df = df.drop('code', axis=1) #dropping code for now, since it's redundant with just 84206\n",
        "df.head()"
      ]
    },
    {
      "cell_type": "code",
      "execution_count": 7,
      "metadata": {
        "colab": {
          "base_uri": "https://localhost:8080/"
        },
        "id": "kMi54VpAujOt",
        "outputId": "ddca2816-093f-4a0f-dec8-b63d23c15908"
      },
      "outputs": [
        {
          "name": "stdout",
          "output_type": "stream",
          "text": [
            "npi_number      int32\n",
            "payer          object\n",
            "price         float64\n",
            "city           object\n",
            "state          object\n",
            "dtype: object\n"
          ]
        }
      ],
      "source": [
        "print(df.dtypes)"
      ]
    },
    {
      "cell_type": "markdown",
      "metadata": {
        "id": "tQnA18iGylKY"
      },
      "source": [
        "#### **Feature Cleaning** *~ state and city*\n",
        "---"
      ]
    },
    {
      "cell_type": "code",
      "execution_count": 8,
      "metadata": {
        "id": "9KOAl3-Mn6Y8"
      },
      "outputs": [],
      "source": [
        "LState = df.index[df['state']=='L '].tolist() #fixing Alabama from 'L ' to 'AL'\n",
        "for entry in LState:\n",
        "  df.iat[entry,4] = 'AL'\n",
        "\n",
        "#unqStates = df.state.unique()\n",
        "#print(unqStates)\n",
        "\n",
        "nullStates = df[df['state'].isnull()].index.tolist() #states = 629 null, cities = 629 null (same)\n",
        "df = df.drop(index=nullStates)\n",
        "  # better to drop, since we can't pull the city and state without looking up the hospital ourselves\n",
        "\n",
        "unqCities = df.city.unique() #duplicates with different casing\n",
        "#print(len(unqCities)) #477\n",
        "\n",
        "df['city'] = df['city'].str.lower()\n",
        "unqCities = df.city.unique()\n",
        "#print(len(unqCities)) #448\n",
        "\n",
        "for city in unqCities: #some cities have blank space in index 0\n",
        "  if(city[0] == ' '):\n",
        "    changeCity = df.index[df['city']==city].tolist()\n",
        "    for c in changeCity:\n",
        "      df.iat[c,3] = city[1:] #remove blank space\n",
        "\n",
        "# unqCities = df.city.unique()\n",
        "# print(len(unqCities)) #453"
      ]
    },
    {
      "cell_type": "markdown",
      "metadata": {
        "id": "fvFRxW3SzjkT"
      },
      "source": [
        "#### **Ordinal Encoding** *~ payer, city, state*\n",
        "\n",
        "\n",
        "---\n",
        "\n"
      ]
    },
    {
      "cell_type": "code",
      "execution_count": 9,
      "metadata": {
        "colab": {
          "base_uri": "https://localhost:8080/",
          "height": 206
        },
        "id": "SyUB7qu1z_oI",
        "outputId": "c58e26c8-8dce-453c-e7bb-53443d5e5dee"
      },
      "outputs": [
        {
          "data": {
            "text/html": [
              "<div>\n",
              "<style scoped>\n",
              "    .dataframe tbody tr th:only-of-type {\n",
              "        vertical-align: middle;\n",
              "    }\n",
              "\n",
              "    .dataframe tbody tr th {\n",
              "        vertical-align: top;\n",
              "    }\n",
              "\n",
              "    .dataframe thead th {\n",
              "        text-align: right;\n",
              "    }\n",
              "</style>\n",
              "<table border=\"1\" class=\"dataframe\">\n",
              "  <thead>\n",
              "    <tr style=\"text-align: right;\">\n",
              "      <th></th>\n",
              "      <th>npi_number</th>\n",
              "      <th>payer</th>\n",
              "      <th>price</th>\n",
              "      <th>city</th>\n",
              "      <th>state</th>\n",
              "    </tr>\n",
              "  </thead>\n",
              "  <tbody>\n",
              "    <tr>\n",
              "      <th>0</th>\n",
              "      <td>1003281452</td>\n",
              "      <td>332</td>\n",
              "      <td>173.0</td>\n",
              "      <td>169</td>\n",
              "      <td>32</td>\n",
              "    </tr>\n",
              "    <tr>\n",
              "      <th>1</th>\n",
              "      <td>1003281452</td>\n",
              "      <td>350</td>\n",
              "      <td>24.0</td>\n",
              "      <td>169</td>\n",
              "      <td>32</td>\n",
              "    </tr>\n",
              "    <tr>\n",
              "      <th>2</th>\n",
              "      <td>1003281452</td>\n",
              "      <td>736</td>\n",
              "      <td>158.0</td>\n",
              "      <td>169</td>\n",
              "      <td>32</td>\n",
              "    </tr>\n",
              "    <tr>\n",
              "      <th>3</th>\n",
              "      <td>1003281452</td>\n",
              "      <td>785</td>\n",
              "      <td>908.0</td>\n",
              "      <td>169</td>\n",
              "      <td>32</td>\n",
              "    </tr>\n",
              "    <tr>\n",
              "      <th>4</th>\n",
              "      <td>1003281452</td>\n",
              "      <td>1086</td>\n",
              "      <td>391.0</td>\n",
              "      <td>169</td>\n",
              "      <td>32</td>\n",
              "    </tr>\n",
              "  </tbody>\n",
              "</table>\n",
              "</div>"
            ],
            "text/plain": [
              "   npi_number  payer  price  city  state\n",
              "0  1003281452    332  173.0   169     32\n",
              "1  1003281452    350   24.0   169     32\n",
              "2  1003281452    736  158.0   169     32\n",
              "3  1003281452    785  908.0   169     32\n",
              "4  1003281452   1086  391.0   169     32"
            ]
          },
          "execution_count": 9,
          "metadata": {},
          "output_type": "execute_result"
        }
      ],
      "source": [
        "enc = OrdinalEncoder(dtype=int) #integer ordinal encoding, default is float\n",
        "enc.fit(df[['payer','city', 'state']])\n",
        "df[['payer','city', 'state']] = enc.transform(df[['payer','city', 'state']])\n",
        "df.head()"
      ]
    },
    {
      "cell_type": "code",
      "execution_count": 10,
      "metadata": {
        "colab": {
          "base_uri": "https://localhost:8080/"
        },
        "id": "AI2FrAlM0qtI",
        "outputId": "91f763cb-fabf-4496-a81e-cbae303f1fdb"
      },
      "outputs": [
        {
          "name": "stdout",
          "output_type": "stream",
          "text": [
            "npi_number      int32\n",
            "payer           int32\n",
            "price         float64\n",
            "city            int32\n",
            "state           int32\n",
            "dtype: object\n"
          ]
        }
      ],
      "source": [
        "print(df.dtypes)"
      ]
    },
    {
      "cell_type": "code",
      "execution_count": 11,
      "metadata": {
        "id": "DoKbs6yUB7EH"
      },
      "outputs": [],
      "source": [
        "nullPrices = df[df['price'].isnull()].index.tolist()\n",
        "df = df.drop(index=nullPrices) #dropping rows with null prices"
      ]
    },
    {
      "cell_type": "code",
      "execution_count": 12,
      "metadata": {
        "colab": {
          "base_uri": "https://localhost:8080/",
          "height": 206
        },
        "id": "78YjWVMK3Ts4",
        "outputId": "cc1d7a5d-5720-4b6f-9459-c31585fbb793"
      },
      "outputs": [
        {
          "data": {
            "text/html": [
              "<div>\n",
              "<style scoped>\n",
              "    .dataframe tbody tr th:only-of-type {\n",
              "        vertical-align: middle;\n",
              "    }\n",
              "\n",
              "    .dataframe tbody tr th {\n",
              "        vertical-align: top;\n",
              "    }\n",
              "\n",
              "    .dataframe thead th {\n",
              "        text-align: right;\n",
              "    }\n",
              "</style>\n",
              "<table border=\"1\" class=\"dataframe\">\n",
              "  <thead>\n",
              "    <tr style=\"text-align: right;\">\n",
              "      <th></th>\n",
              "      <th>npi_number</th>\n",
              "      <th>payer</th>\n",
              "      <th>city</th>\n",
              "      <th>state</th>\n",
              "      <th>price</th>\n",
              "    </tr>\n",
              "  </thead>\n",
              "  <tbody>\n",
              "    <tr>\n",
              "      <th>0</th>\n",
              "      <td>1003281452</td>\n",
              "      <td>332</td>\n",
              "      <td>169</td>\n",
              "      <td>32</td>\n",
              "      <td>173.0</td>\n",
              "    </tr>\n",
              "    <tr>\n",
              "      <th>1</th>\n",
              "      <td>1003281452</td>\n",
              "      <td>350</td>\n",
              "      <td>169</td>\n",
              "      <td>32</td>\n",
              "      <td>24.0</td>\n",
              "    </tr>\n",
              "    <tr>\n",
              "      <th>2</th>\n",
              "      <td>1003281452</td>\n",
              "      <td>736</td>\n",
              "      <td>169</td>\n",
              "      <td>32</td>\n",
              "      <td>158.0</td>\n",
              "    </tr>\n",
              "    <tr>\n",
              "      <th>3</th>\n",
              "      <td>1003281452</td>\n",
              "      <td>785</td>\n",
              "      <td>169</td>\n",
              "      <td>32</td>\n",
              "      <td>908.0</td>\n",
              "    </tr>\n",
              "    <tr>\n",
              "      <th>4</th>\n",
              "      <td>1003281452</td>\n",
              "      <td>1086</td>\n",
              "      <td>169</td>\n",
              "      <td>32</td>\n",
              "      <td>391.0</td>\n",
              "    </tr>\n",
              "  </tbody>\n",
              "</table>\n",
              "</div>"
            ],
            "text/plain": [
              "   npi_number  payer  city  state  price\n",
              "0  1003281452    332   169     32  173.0\n",
              "1  1003281452    350   169     32   24.0\n",
              "2  1003281452    736   169     32  158.0\n",
              "3  1003281452    785   169     32  908.0\n",
              "4  1003281452   1086   169     32  391.0"
            ]
          },
          "execution_count": 12,
          "metadata": {},
          "output_type": "execute_result"
        }
      ],
      "source": [
        "df = df[['npi_number', 'payer', 'city', 'state', 'price']] #reordering columns for easier split later\n",
        "df.head()"
      ]
    },
    {
      "cell_type": "markdown",
      "metadata": {
        "id": "V6OCyLsf17l2"
      },
      "source": [
        "#### **Standardization / Normalization**\n",
        "---\n",
        "Since the data values range greatly between features, standardizing makes it easier for the model to learn.\n"
      ]
    },
    {
      "cell_type": "code",
      "execution_count": 13,
      "metadata": {
        "id": "EkVm2Sy62BL2"
      },
      "outputs": [],
      "source": [
        "scaler = StandardScaler() # default centers mean to zero & scales to unit variance\n",
        "normNumpy = scaler.fit_transform(df) #returns as numpy array"
      ]
    },
    {
      "cell_type": "markdown",
      "metadata": {
        "id": "TopCiBE04Fqw"
      },
      "source": [
        "#### **Train Test Split (80-20)**\n",
        "\n",
        "\n",
        "---\n",
        "\n"
      ]
    },
    {
      "cell_type": "code",
      "execution_count": 14,
      "metadata": {
        "id": "j7ZHe7Dl4UW4"
      },
      "outputs": [],
      "source": [
        "npTrain, npTest = train_test_split(normNumpy, test_size=0.2)\n",
        "\n",
        "#convert back to pandas\n",
        "pdTrain = pd.DataFrame(npTrain, columns=['npi_number', 'payer', 'city', 'state', 'price'])\n",
        "pdTest = pd.DataFrame(npTest, columns=['npi_number', 'payer', 'city', 'state', 'price'])\n",
        "#pdTrain.head()"
      ]
    },
    {
      "cell_type": "code",
      "execution_count": 15,
      "metadata": {
        "id": "VjVzsTHI507g"
      },
      "outputs": [],
      "source": [
        "yTrain = pdTrain[['price']].copy()\n",
        "#yTrain.head()\n",
        "yTest = pdTest[['price']].copy()"
      ]
    },
    {
      "cell_type": "code",
      "execution_count": 16,
      "metadata": {
        "id": "krPhGVGp54qr"
      },
      "outputs": [],
      "source": [
        "xTrain = pdTrain.drop('price', axis=1)\n",
        "#xTrain.head()\n",
        "xTest = pdTest.drop('price', axis=1)"
      ]
    },
    {
      "cell_type": "markdown",
      "metadata": {
        "id": "_UYbwL-R6Ri0"
      },
      "source": [
        "#### **Downloading Files**\n",
        "\n",
        "\n",
        "---\n",
        "\n"
      ]
    },
    {
      "cell_type": "code",
      "execution_count": 17,
      "metadata": {
        "id": "jWoLSQGv6WFh"
      },
      "outputs": [],
      "source": [
        "xTrain.to_csv(\"../data/84206/xTrain.csv\", index=False)\n",
        "yTrain.to_csv(\"../data/84206/yTrain.csv\", index=False)\n",
        "\n",
        "xTest.to_csv(\"../data/84206/xTest.csv\", index=False)\n",
        "yTest.to_csv(\"../data/84206/yTest.csv\", index=False)"
      ]
    }
  ],
  "metadata": {
    "colab": {
      "provenance": []
    },
    "kernelspec": {
      "display_name": "Python 3",
      "name": "python3"
    },
    "language_info": {
      "codemirror_mode": {
        "name": "ipython",
        "version": 3
      },
      "file_extension": ".py",
      "mimetype": "text/x-python",
      "name": "python",
      "nbconvert_exporter": "python",
      "pygments_lexer": "ipython3",
      "version": "3.11.1"
    }
  },
  "nbformat": 4,
  "nbformat_minor": 0
}
