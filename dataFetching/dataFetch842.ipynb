{
 "cells": [
  {
   "cell_type": "code",
   "execution_count": 2,
   "metadata": {},
   "outputs": [],
   "source": [
    "from dotenv import dotenv_values\n",
    "import pandas as pd\n",
    "from sqlalchemy import create_engine, text\n",
    "from sshtunnel import SSHTunnelForwarder"
   ]
  },
  {
   "cell_type": "code",
   "execution_count": 3,
   "metadata": {},
   "outputs": [],
   "source": [
    "# Load credentials from .env file\n",
    "envDict = dotenv_values(\"../secrets/.env\")"
   ]
  },
  {
   "cell_type": "code",
   "execution_count": 4,
   "metadata": {},
   "outputs": [],
   "source": [
    "# Create a bind to forward connections on the local port to the mysql port on the server\n",
    "server = SSHTunnelForwarder(\n",
    "    # Host URL and Login\n",
    "    envDict['SSH_HOST'],\n",
    "    ssh_username = envDict['SSH_USERNAME'],\n",
    "    # Private key for SSH connections\n",
    "    ssh_pkey = envDict[\"SSH_PKEY_PATH\"],\n",
    "    ssh_private_key_password = envDict['SSH_PKEY_PASSWORD'],\n",
    "    # Bind to mysql port on server\n",
    "    remote_bind_address = (envDict[\"DB_REMOTE_REF_URL\"], int(envDict[\"DB_REMOTE_REF_PORT\"])),\n",
    "    # Don't look for keys on the local machine\n",
    "    allow_agent = False,\n",
    "    host_pkey_directories = [],\n",
    ")\n",
    "# Start the tunneled connection\n",
    "server.start()"
   ]
  },
  {
   "cell_type": "code",
   "execution_count": 5,
   "metadata": {},
   "outputs": [],
   "source": [
    "# Create the engine to connect to the database using the tunnel\n",
    "engine = create_engine('mysql+pymysql://{}:{}@{}:{}/{}'.format(envDict[\"DB_USERNAME\"], envDict[\"DB_PASSWORD\"], \"127.0.0.1\", server.local_bind_port, \"hospital_price_transparency\"))"
   ]
  },
  {
   "cell_type": "code",
   "execution_count": 6,
   "metadata": {},
   "outputs": [
    {
     "data": {
      "text/html": [
       "<div>\n",
       "<style scoped>\n",
       "    .dataframe tbody tr th:only-of-type {\n",
       "        vertical-align: middle;\n",
       "    }\n",
       "\n",
       "    .dataframe tbody tr th {\n",
       "        vertical-align: top;\n",
       "    }\n",
       "\n",
       "    .dataframe thead th {\n",
       "        text-align: right;\n",
       "    }\n",
       "</style>\n",
       "<table border=\"1\" class=\"dataframe\">\n",
       "  <thead>\n",
       "    <tr style=\"text-align: right;\">\n",
       "      <th></th>\n",
       "      <th>code</th>\n",
       "      <th>npi_number</th>\n",
       "      <th>payer</th>\n",
       "      <th>price</th>\n",
       "      <th>name</th>\n",
       "      <th>url</th>\n",
       "      <th>street_address</th>\n",
       "      <th>city</th>\n",
       "      <th>state</th>\n",
       "      <th>zip_code</th>\n",
       "      <th>publish_date</th>\n",
       "    </tr>\n",
       "  </thead>\n",
       "  <tbody>\n",
       "    <tr>\n",
       "      <th>0</th>\n",
       "      <td>842</td>\n",
       "      <td>1700979465</td>\n",
       "      <td>AETNA</td>\n",
       "      <td>14.94</td>\n",
       "      <td>Baptist Hospital</td>\n",
       "      <td>https://baptisthealthcare.pt.panaceainc.com/MR...</td>\n",
       "      <td>1000 West Moreno St</td>\n",
       "      <td>Pensacola</td>\n",
       "      <td>FL</td>\n",
       "      <td>32501</td>\n",
       "      <td>None</td>\n",
       "    </tr>\n",
       "    <tr>\n",
       "      <th>1</th>\n",
       "      <td>842</td>\n",
       "      <td>1700979465</td>\n",
       "      <td>BC FL</td>\n",
       "      <td>15.69</td>\n",
       "      <td>Baptist Hospital</td>\n",
       "      <td>https://baptisthealthcare.pt.panaceainc.com/MR...</td>\n",
       "      <td>1000 West Moreno St</td>\n",
       "      <td>Pensacola</td>\n",
       "      <td>FL</td>\n",
       "      <td>32501</td>\n",
       "      <td>None</td>\n",
       "    </tr>\n",
       "    <tr>\n",
       "      <th>2</th>\n",
       "      <td>842</td>\n",
       "      <td>1700979465</td>\n",
       "      <td>CHA HEALTH PLAN</td>\n",
       "      <td>14.94</td>\n",
       "      <td>Baptist Hospital</td>\n",
       "      <td>https://baptisthealthcare.pt.panaceainc.com/MR...</td>\n",
       "      <td>1000 West Moreno St</td>\n",
       "      <td>Pensacola</td>\n",
       "      <td>FL</td>\n",
       "      <td>32501</td>\n",
       "      <td>None</td>\n",
       "    </tr>\n",
       "    <tr>\n",
       "      <th>3</th>\n",
       "      <td>842</td>\n",
       "      <td>1700979465</td>\n",
       "      <td>FL COMMUNITY CARE LTC</td>\n",
       "      <td>15.99</td>\n",
       "      <td>Baptist Hospital</td>\n",
       "      <td>https://baptisthealthcare.pt.panaceainc.com/MR...</td>\n",
       "      <td>1000 West Moreno St</td>\n",
       "      <td>Pensacola</td>\n",
       "      <td>FL</td>\n",
       "      <td>32501</td>\n",
       "      <td>None</td>\n",
       "    </tr>\n",
       "    <tr>\n",
       "      <th>4</th>\n",
       "      <td>842</td>\n",
       "      <td>1700979465</td>\n",
       "      <td>LIGHTHOUSE MCAID PSN</td>\n",
       "      <td>15.99</td>\n",
       "      <td>Baptist Hospital</td>\n",
       "      <td>https://baptisthealthcare.pt.panaceainc.com/MR...</td>\n",
       "      <td>1000 West Moreno St</td>\n",
       "      <td>Pensacola</td>\n",
       "      <td>FL</td>\n",
       "      <td>32501</td>\n",
       "      <td>None</td>\n",
       "    </tr>\n",
       "  </tbody>\n",
       "</table>\n",
       "</div>"
      ],
      "text/plain": [
       "  code  npi_number                  payer  price              name   \n",
       "0  842  1700979465                  AETNA  14.94  Baptist Hospital  \\\n",
       "1  842  1700979465                  BC FL  15.69  Baptist Hospital   \n",
       "2  842  1700979465        CHA HEALTH PLAN  14.94  Baptist Hospital   \n",
       "3  842  1700979465  FL COMMUNITY CARE LTC  15.99  Baptist Hospital   \n",
       "4  842  1700979465   LIGHTHOUSE MCAID PSN  15.99  Baptist Hospital   \n",
       "\n",
       "                                                 url       street_address   \n",
       "0  https://baptisthealthcare.pt.panaceainc.com/MR...  1000 West Moreno St  \\\n",
       "1  https://baptisthealthcare.pt.panaceainc.com/MR...  1000 West Moreno St   \n",
       "2  https://baptisthealthcare.pt.panaceainc.com/MR...  1000 West Moreno St   \n",
       "3  https://baptisthealthcare.pt.panaceainc.com/MR...  1000 West Moreno St   \n",
       "4  https://baptisthealthcare.pt.panaceainc.com/MR...  1000 West Moreno St   \n",
       "\n",
       "        city state zip_code publish_date  \n",
       "0  Pensacola    FL    32501         None  \n",
       "1  Pensacola    FL    32501         None  \n",
       "2  Pensacola    FL    32501         None  \n",
       "3  Pensacola    FL    32501         None  \n",
       "4  Pensacola    FL    32501         None  "
      ]
     },
     "execution_count": 6,
     "metadata": {},
     "output_type": "execute_result"
    }
   ],
   "source": [
    "# This wildcard match crashes locally, takes about 35-40 seconds on the server\n",
    "with engine.connect() as connection:\n",
    "    prices_df = pd.read_sql_query(text(\"SELECT * FROM prices WHERE code LIKE '842%' LIMIT 1000000\"), con=connection)\n",
    "    hospital_df = pd.read_sql_query(text(\"SELECT * FROM hospitals WHERE npi_number in (SELECT npi_number FROM prices WHERE code LIKE '842%') LIMIT 1000000\"), con=connection)\n",
    "\n",
    "merged_df = pd.merge(prices_df, hospital_df, on='npi_number')\n",
    "\n",
    "merged_df.head()"
   ]
  },
  {
   "cell_type": "code",
   "execution_count": 7,
   "metadata": {},
   "outputs": [
    {
     "name": "stdout",
     "output_type": "stream",
     "text": [
      "140835\n"
     ]
    }
   ],
   "source": [
    "print(len(merged_df)) #checking how many rows resulted from query"
   ]
  },
  {
   "cell_type": "code",
   "execution_count": 8,
   "metadata": {},
   "outputs": [
    {
     "name": "stdout",
     "output_type": "stream",
     "text": [
      "Unique count:  173\n",
      "Unique codes:  ['842' '84202' '84202,1' '84203' '84203,1' '84206' '84206,1' '84207'\n",
      " '84207,1' '84210' '84210,1' '84220' '84220,1' '84228' '84228,1' '84233'\n",
      " '84233,1' '84234' '84234,1' '84235' '84235,1' '84238' '84238,1' '84244'\n",
      " '84244,1' '84252' '84252,1' '84255' '84255,1' '84260' '84260,1' '84270'\n",
      " '84270,1' '84275' '84275,1' '84285' '84285,1' '84295' '84295,1' '84210-1'\n",
      " '84234-1' '84244-1' '84295-1' '84295-00' '84295-01' '84202,2' '84202,3'\n",
      " '84206,2' '84206,3' '84206,4' '84207,2' '84207,3' '84210,2' '84220,2'\n",
      " '84220,3' '84220,4' '84220,5' '84231' '84238,2' '84238,3' '84238,4'\n",
      " '84238,5' '84238,6' '84244,2' '84244,3' '84244,4' '84252,2' '84255,2'\n",
      " '84255,3' '84255,4' '84260,2' '84260,3' '84260,4' '84260,5' '84260,6'\n",
      " '84260,7' '84270,2' '84270,3' '84270,4' '84275,2' '84275,3' '84295,2'\n",
      " '84295,3' '84295,4' '84295,9' '84207-00' '84207-01' '84234-00' '84234-01'\n",
      " '84220-00' '84220-01' '84275-00' '84275-01' '84202-00' '84202-01'\n",
      " '84202-02' '84202-03' '84270-00' '84270-01' '84206-00' '84206-01'\n",
      " '84206-02' '84210-00' '84210-01' '84244-00' '84244-01' '84255-00'\n",
      " '84255-01' '84295-02' '84295-03' '84295-04' '84207,4' '84207,5' '84210,3'\n",
      " '84210,4' '84210,5' '84210,6' '84210,7' '84252,3' '84252,4' '84252,5'\n",
      " '84295,5' '84295,6' '84207-1' '84295-2' '84202,90' '84206,90' '84207,90'\n",
      " '84210,90' '84220,90' '84238,90' '84238-00' '84238-01' '84244,90'\n",
      " '84252,90' '84255,90' '84260,90-00' '84260,90-01' '84260-00' '84260-01'\n",
      " '84260-02' '84270,90' '84295,90' '84202-1' '84295,7' '84295,8' '84203,2'\n",
      " '84228,2' '84233,2' '84234,2' '84235,2' '84285,2' '84206-1' '84220-1'\n",
      " '84228-1' '84260-1' '84270-1' '84233-00' '84233-01' '84238-02' '84244-02'\n",
      " '84252-00' '84252-01' '84252-1' '84270-2' '84207-02' '84244-03'\n",
      " '84244-04' '84270-02' '84270-03' '84238-1' '84235-1' '8425']\n",
      "['FL' 'NE' 'SC' 'MS' 'HI' 'CA' 'TX' 'ME' 'MA' None 'RI' 'KS' 'NC' 'TN'\n",
      " 'NH' 'MN' 'ID' 'CT' 'MI' 'MD' 'MO' 'NV' 'WI' 'AL' 'KY' 'VA' 'CO' 'OK'\n",
      " 'DE' 'IL' 'AZ' 'NY' 'IN' 'ND' 'NJ' 'WA' 'WY' 'NM' 'GA' 'OR' 'UT' 'DC'\n",
      " 'VT' 'WV' 'OH' 'PA' 'IA' '73' 'SD' 'L ' 'AR' 'LA']\n"
     ]
    }
   ],
   "source": [
    "uniques = merged_df[\"code\"].unique()\n",
    "print(\"Unique count: \", len(uniques))\n",
    "print(\"Unique codes: \", uniques)\n",
    "\n",
    "foo = merged_df.state.unique() #checking the variety of states\n",
    "print(foo)"
   ]
  },
  {
   "cell_type": "code",
   "execution_count": 93,
   "metadata": {},
   "outputs": [],
   "source": [
    "with open('842entries.csv', 'w', encoding=\"utf-8\") as f:\n",
    "    f.write(merged_df.to_csv())"
   ]
  }
 ],
 "metadata": {
  "kernelspec": {
   "display_name": "Python 3.11.5 ('sklearn-env')",
   "language": "python",
   "name": "python3"
  },
  "language_info": {
   "codemirror_mode": {
    "name": "ipython",
    "version": 3
   },
   "file_extension": ".py",
   "mimetype": "text/x-python",
   "name": "python",
   "nbconvert_exporter": "python",
   "pygments_lexer": "ipython3",
   "version": "3.11.1"
  },
  "vscode": {
   "interpreter": {
    "hash": "611352f5978b1235c108ac50e4c651ac98f23cc2e9a9cdf27562626bd378e331"
   }
  }
 },
 "nbformat": 4,
 "nbformat_minor": 2
}
