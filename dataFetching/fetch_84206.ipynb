{
 "cells": [
  {
   "cell_type": "markdown",
   "metadata": {},
   "source": [
    "This notebook fetches the data for all entries with the code \"84206\" and places it at ../data/84206.csv."
   ]
  },
  {
   "cell_type": "code",
   "execution_count": 1,
   "metadata": {},
   "outputs": [],
   "source": [
    "from dotenv import dotenv_values\n",
    "import pandas as pd\n",
    "from sqlalchemy import create_engine, text\n",
    "from sshtunnel import SSHTunnelForwarder"
   ]
  },
  {
   "cell_type": "code",
   "execution_count": 2,
   "metadata": {},
   "outputs": [],
   "source": [
    "# Load credentials from .env file\n",
    "envDict = dotenv_values(\"../secrets/.env\")"
   ]
  },
  {
   "cell_type": "code",
   "execution_count": 3,
   "metadata": {},
   "outputs": [],
   "source": [
    "# Create a bind to forward connections on the local port to the mysql port on the server\n",
    "server = SSHTunnelForwarder(\n",
    "    # Host URL and Login\n",
    "    envDict['SSH_HOST'],\n",
    "    ssh_username = envDict['SSH_USERNAME'],\n",
    "    # Private key for SSH connections\n",
    "    ssh_pkey = envDict[\"SSH_PKEY_PATH\"],\n",
    "    ssh_private_key_password = envDict['SSH_PKEY_PASSWORD'],\n",
    "    # Bind to mysql port on server\n",
    "    remote_bind_address = (envDict[\"DB_REMOTE_REF_URL\"], int(envDict[\"DB_REMOTE_REF_PORT\"])),\n",
    "    # Don't look for keys on the local machine\n",
    "    allow_agent = False,\n",
    "    host_pkey_directories = [],\n",
    ")\n",
    "# Start the tunneled connection\n",
    "server.start()"
   ]
  },
  {
   "cell_type": "code",
   "execution_count": 4,
   "metadata": {},
   "outputs": [],
   "source": [
    "engine = create_engine('mysql+pymysql://{}:{}@{}:{}/{}'.format(envDict[\"DB_USERNAME\"], envDict[\"DB_PASSWORD\"], \"127.0.0.1\", server.local_bind_port, \"hospital_price_transparency\"))"
   ]
  },
  {
   "cell_type": "code",
   "execution_count": 5,
   "metadata": {},
   "outputs": [
    {
     "data": {
      "text/html": [
       "<div>\n",
       "<style scoped>\n",
       "    .dataframe tbody tr th:only-of-type {\n",
       "        vertical-align: middle;\n",
       "    }\n",
       "\n",
       "    .dataframe tbody tr th {\n",
       "        vertical-align: top;\n",
       "    }\n",
       "\n",
       "    .dataframe thead th {\n",
       "        text-align: right;\n",
       "    }\n",
       "</style>\n",
       "<table border=\"1\" class=\"dataframe\">\n",
       "  <thead>\n",
       "    <tr style=\"text-align: right;\">\n",
       "      <th></th>\n",
       "      <th>code</th>\n",
       "      <th>npi_number</th>\n",
       "      <th>payer</th>\n",
       "      <th>price</th>\n",
       "      <th>name</th>\n",
       "      <th>url</th>\n",
       "      <th>street_address</th>\n",
       "      <th>city</th>\n",
       "      <th>state</th>\n",
       "      <th>zip_code</th>\n",
       "      <th>publish_date</th>\n",
       "    </tr>\n",
       "  </thead>\n",
       "  <tbody>\n",
       "    <tr>\n",
       "      <th>0</th>\n",
       "      <td>84206</td>\n",
       "      <td>1003281452</td>\n",
       "      <td>Aetna</td>\n",
       "      <td>173.0</td>\n",
       "      <td>Henderson Hospital</td>\n",
       "      <td>https://uhsfilecdn.eskycity.net/ac/henderson-h...</td>\n",
       "      <td>1050 West Galleria Drive</td>\n",
       "      <td>Henderson</td>\n",
       "      <td>NV</td>\n",
       "      <td>89011</td>\n",
       "      <td>2021-01-01</td>\n",
       "    </tr>\n",
       "    <tr>\n",
       "      <th>1</th>\n",
       "      <td>84206</td>\n",
       "      <td>1003281452</td>\n",
       "      <td>Amerigroup</td>\n",
       "      <td>24.0</td>\n",
       "      <td>Henderson Hospital</td>\n",
       "      <td>https://uhsfilecdn.eskycity.net/ac/henderson-h...</td>\n",
       "      <td>1050 West Galleria Drive</td>\n",
       "      <td>Henderson</td>\n",
       "      <td>NV</td>\n",
       "      <td>89011</td>\n",
       "      <td>2021-01-01</td>\n",
       "    </tr>\n",
       "    <tr>\n",
       "      <th>2</th>\n",
       "      <td>84206</td>\n",
       "      <td>1003281452</td>\n",
       "      <td>Blue Cross</td>\n",
       "      <td>158.0</td>\n",
       "      <td>Henderson Hospital</td>\n",
       "      <td>https://uhsfilecdn.eskycity.net/ac/henderson-h...</td>\n",
       "      <td>1050 West Galleria Drive</td>\n",
       "      <td>Henderson</td>\n",
       "      <td>NV</td>\n",
       "      <td>89011</td>\n",
       "      <td>2021-01-01</td>\n",
       "    </tr>\n",
       "    <tr>\n",
       "      <th>3</th>\n",
       "      <td>84206</td>\n",
       "      <td>1003281452</td>\n",
       "      <td>CASH</td>\n",
       "      <td>908.0</td>\n",
       "      <td>Henderson Hospital</td>\n",
       "      <td>https://uhsfilecdn.eskycity.net/ac/henderson-h...</td>\n",
       "      <td>1050 West Galleria Drive</td>\n",
       "      <td>Henderson</td>\n",
       "      <td>NV</td>\n",
       "      <td>89011</td>\n",
       "      <td>2021-01-01</td>\n",
       "    </tr>\n",
       "    <tr>\n",
       "      <th>4</th>\n",
       "      <td>84206</td>\n",
       "      <td>1003281452</td>\n",
       "      <td>Cigna</td>\n",
       "      <td>391.0</td>\n",
       "      <td>Henderson Hospital</td>\n",
       "      <td>https://uhsfilecdn.eskycity.net/ac/henderson-h...</td>\n",
       "      <td>1050 West Galleria Drive</td>\n",
       "      <td>Henderson</td>\n",
       "      <td>NV</td>\n",
       "      <td>89011</td>\n",
       "      <td>2021-01-01</td>\n",
       "    </tr>\n",
       "  </tbody>\n",
       "</table>\n",
       "</div>"
      ],
      "text/plain": [
       "    code  npi_number       payer  price                name   \n",
       "0  84206  1003281452       Aetna  173.0  Henderson Hospital  \\\n",
       "1  84206  1003281452  Amerigroup   24.0  Henderson Hospital   \n",
       "2  84206  1003281452  Blue Cross  158.0  Henderson Hospital   \n",
       "3  84206  1003281452        CASH  908.0  Henderson Hospital   \n",
       "4  84206  1003281452       Cigna  391.0  Henderson Hospital   \n",
       "\n",
       "                                                 url   \n",
       "0  https://uhsfilecdn.eskycity.net/ac/henderson-h...  \\\n",
       "1  https://uhsfilecdn.eskycity.net/ac/henderson-h...   \n",
       "2  https://uhsfilecdn.eskycity.net/ac/henderson-h...   \n",
       "3  https://uhsfilecdn.eskycity.net/ac/henderson-h...   \n",
       "4  https://uhsfilecdn.eskycity.net/ac/henderson-h...   \n",
       "\n",
       "             street_address       city state zip_code publish_date  \n",
       "0  1050 West Galleria Drive  Henderson    NV    89011   2021-01-01  \n",
       "1  1050 West Galleria Drive  Henderson    NV    89011   2021-01-01  \n",
       "2  1050 West Galleria Drive  Henderson    NV    89011   2021-01-01  \n",
       "3  1050 West Galleria Drive  Henderson    NV    89011   2021-01-01  \n",
       "4  1050 West Galleria Drive  Henderson    NV    89011   2021-01-01  "
      ]
     },
     "execution_count": 5,
     "metadata": {},
     "output_type": "execute_result"
    }
   ],
   "source": [
    "with engine.connect() as connection:\n",
    "    prices_df = pd.read_sql_query(\"SELECT * FROM prices WHERE code='84206'\", con=connection)\n",
    "    hospital_df = pd.read_sql_query(\"SELECT * FROM hospitals WHERE npi_number in (SELECT npi_number FROM prices WHERE code='84206')\", con=connection)\n",
    "\n",
    "merged_df = pd.merge(prices_df, hospital_df, on='npi_number')\n",
    "\n",
    "merged_df.head()"
   ]
  },
  {
   "cell_type": "code",
   "execution_count": 6,
   "metadata": {},
   "outputs": [
    {
     "name": "stdout",
     "output_type": "stream",
     "text": [
      "Unique count:  1\n",
      "Unique codes:  ['84206']\n"
     ]
    }
   ],
   "source": [
    "# This is the list of unique codes that match the wildcard\n",
    "uniques = merged_df[\"code\"].unique()\n",
    "print(\"Unique count: \", len(uniques))\n",
    "print(\"Unique codes: \", uniques)"
   ]
  },
  {
   "cell_type": "code",
   "execution_count": 7,
   "metadata": {},
   "outputs": [],
   "source": [
    "with open('../data/84206.csv', 'w', encoding=\"utf-8\") as f:\n",
    "    # line terminator prevents extra blank lines\n",
    "    # index=False prevents the index from being written to the csv as an unnamed column\n",
    "    merged_df.to_csv(f, lineterminator='\\n', index=False)"
   ]
  }
 ],
 "metadata": {
  "kernelspec": {
   "display_name": "Python 3",
   "language": "python",
   "name": "python3"
  },
  "language_info": {
   "codemirror_mode": {
    "name": "ipython",
    "version": 3
   },
   "file_extension": ".py",
   "mimetype": "text/x-python",
   "name": "python",
   "nbconvert_exporter": "python",
   "pygments_lexer": "ipython3",
   "version": "3.11.1"
  }
 },
 "nbformat": 4,
 "nbformat_minor": 2
}
