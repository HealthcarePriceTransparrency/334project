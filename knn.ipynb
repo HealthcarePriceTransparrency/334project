{
 "cells": [
  {
   "cell_type": "markdown",
   "metadata": {},
   "source": [
    "# KNN Regression Model\n",
    "Quick model for our data"
   ]
  },
  {
   "cell_type": "markdown",
   "metadata": {},
   "source": [
    "### Setup"
   ]
  },
  {
   "cell_type": "code",
   "execution_count": 71,
   "metadata": {},
   "outputs": [],
   "source": [
    "from sklearn.neighbors import KNeighborsRegressor\n",
    "import pandas as pd\n",
    "import time\n",
    "from sklearn.metrics import mean_absolute_error, mean_squared_error, r2_score, median_absolute_error"
   ]
  },
  {
   "cell_type": "code",
   "execution_count": 72,
   "metadata": {},
   "outputs": [
    {
     "name": "stdout",
     "output_type": "stream",
     "text": [
      "xtrain shape: (7009, 4)\n",
      "ytrain shape: (7009, 1)\n"
     ]
    }
   ],
   "source": [
    "# Start time\n",
    "start = time.time()\n",
    "\n",
    "# Read in our processed data\n",
    "xtrain = pd.read_csv(\"xTrain.csv\")\n",
    "xtest = pd.read_csv(\"xTest.csv\")\n",
    "ytrain = pd.read_csv(\"yTrain.csv\")\n",
    "ytest = pd.read_csv(\"yTest.csv\")\n",
    "\n",
    "# Get our data to numpy arrays\n",
    "xtrain = xtrain.to_numpy()\n",
    "ytrain = ytrain.to_numpy()\n",
    "xtest = xtest.to_numpy()\n",
    "ytest = ytest.to_numpy()\n",
    "\n",
    "# Print the shape of our data\n",
    "print(\"xtrain shape:\", xtrain.shape)\n",
    "print(\"ytrain shape:\", ytrain.shape)"
   ]
  },
  {
   "cell_type": "markdown",
   "metadata": {},
   "source": [
    "### Model"
   ]
  },
  {
   "cell_type": "code",
   "execution_count": 73,
   "metadata": {},
   "outputs": [],
   "source": [
    "# Create the model and fit our training data to it\n",
    "knn = KNeighborsRegressor(n_neighbors=6)\n",
    "knn.fit(xtrain, ytrain)\n",
    "\n",
    "# Use the trained model on the testing and training data\n",
    "testPred = knn.predict(xtest)\n",
    "trainPred = knn.predict(xtrain)"
   ]
  },
  {
   "cell_type": "markdown",
   "metadata": {},
   "source": [
    "### Measuring Accuracy\n",
    "Not sure which metric to choose, so I went with a few:"
   ]
  },
  {
   "cell_type": "markdown",
   "metadata": {},
   "source": [
    "#### Mean Absolute Error\n",
    "Shows average magnitude of errors"
   ]
  },
  {
   "cell_type": "code",
   "execution_count": 74,
   "metadata": {},
   "outputs": [
    {
     "name": "stdout",
     "output_type": "stream",
     "text": [
      "Test MAE: 0.05441390850700607\n",
      "Train MAE: 0.023067197171565277\n"
     ]
    }
   ],
   "source": [
    "print(\"Test MAE:\", mean_absolute_error(ytest, testPred))\n",
    "print(\"Train MAE:\", mean_absolute_error(ytrain, trainPred))"
   ]
  },
  {
   "cell_type": "markdown",
   "metadata": {},
   "source": [
    "#### Mean Squared Error\n",
    "Shows average magnitude of errors, but weighs larger errors more than MAE"
   ]
  },
  {
   "cell_type": "code",
   "execution_count": 75,
   "metadata": {},
   "outputs": [
    {
     "name": "stdout",
     "output_type": "stream",
     "text": [
      "Test MSE: 2.1446791739354847\n",
      "Train MSE: 0.5211431341257831\n"
     ]
    }
   ],
   "source": [
    "print(\"Test MSE:\", mean_squared_error(ytest, testPred))\n",
    "print(\"Train MSE:\", mean_squared_error(ytrain, trainPred))"
   ]
  },
  {
   "cell_type": "markdown",
   "metadata": {},
   "source": [
    "#### R2 Score\n",
    "How well the variation of the predicted matches the variation in the actual (0-1)"
   ]
  },
  {
   "cell_type": "code",
   "execution_count": 76,
   "metadata": {},
   "outputs": [
    {
     "name": "stdout",
     "output_type": "stream",
     "text": [
      "Test R2: 0.1411911947661597\n",
      "Train R2: 0.16643213159807746\n"
     ]
    }
   ],
   "source": [
    "print(\"Test R2:\", r2_score(ytest, testPred))\n",
    "print(\"Train R2:\", r2_score(ytrain, trainPred))"
   ]
  },
  {
   "cell_type": "markdown",
   "metadata": {},
   "source": [
    "#### Median Absolute Error\n",
    "Uses median instead of mean for error magnitude - less sensitive to outliers"
   ]
  },
  {
   "cell_type": "code",
   "execution_count": 77,
   "metadata": {},
   "outputs": [
    {
     "name": "stdout",
     "output_type": "stream",
     "text": [
      "Test MAE: 0.0001479080779533161\n",
      "Train MAE: 0.00011497990775501815\n"
     ]
    }
   ],
   "source": [
    "print(\"Test MAE:\", median_absolute_error(ytest, testPred))\n",
    "print(\"Train MAE:\", median_absolute_error(ytrain, trainPred))"
   ]
  }
 ],
 "metadata": {
  "kernelspec": {
   "display_name": "Python 3",
   "language": "python",
   "name": "python3"
  },
  "language_info": {
   "codemirror_mode": {
    "name": "ipython",
    "version": 3
   },
   "file_extension": ".py",
   "mimetype": "text/x-python",
   "name": "python",
   "nbconvert_exporter": "python",
   "pygments_lexer": "ipython3",
   "version": "3.11.1"
  }
 },
 "nbformat": 4,
 "nbformat_minor": 2
}
